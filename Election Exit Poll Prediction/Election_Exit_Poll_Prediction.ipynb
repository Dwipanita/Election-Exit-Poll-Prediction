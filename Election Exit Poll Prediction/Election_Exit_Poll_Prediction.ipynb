{
  "nbformat": 4,
  "nbformat_minor": 0,
  "metadata": {
    "colab": {
      "provenance": []
    },
    "kernelspec": {
      "name": "python3",
      "display_name": "Python 3"
    },
    "language_info": {
      "name": "python"
    }
  },
  "cells": [
    {
      "cell_type": "code",
      "execution_count": 1,
      "metadata": {
        "colab": {
          "base_uri": "https://localhost:8080/"
        },
        "id": "VMj6FrSSpk_r",
        "outputId": "25f9ef03-e890-4fa5-f7b1-861ec924c14e"
      },
      "outputs": [
        {
          "output_type": "stream",
          "name": "stdout",
          "text": [
            "Mounted at /content/drive\n"
          ]
        }
      ],
      "source": [
        "from google.colab import drive\n",
        "drive.mount('/content/drive')"
      ]
    },
    {
      "cell_type": "code",
      "source": [
        "import numpy as np   \n",
        "import pandas as pd    \n",
        "import seaborn as sns\n",
        "from sklearn.model_selection import train_test_split\n",
        "from sklearn.model_selection import GridSearchCV\n",
        "from sklearn import metrics,model_selection\n",
        "from sklearn.preprocessing import scale\n",
        "from sklearn.metrics import confusion_matrix, classification_report, roc_auc_score, roc_curve\n",
        "import matplotlib.pyplot as plt   \n",
        "import matplotlib.style\n",
        "from warnings import filterwarnings\n",
        "filterwarnings('ignore')"
      ],
      "metadata": {
        "id": "VlsFNFJgpo-y"
      },
      "execution_count": 2,
      "outputs": []
    },
    {
      "cell_type": "markdown",
      "source": [
        "#Ans 1"
      ],
      "metadata": {
        "id": "yTtmWDhgX6fO"
      }
    },
    {
      "cell_type": "markdown",
      "source": [
        "##Ans 1.1"
      ],
      "metadata": {
        "id": "rw9OF6wap2L3"
      }
    },
    {
      "cell_type": "code",
      "source": [
        "Path=('/content/drive/MyDrive/Election_Data.xlsx')\n",
        "DF= pd.read_excel(Path)"
      ],
      "metadata": {
        "id": "fRA1EEf9nrD6"
      },
      "execution_count": null,
      "outputs": []
    },
    {
      "cell_type": "code",
      "source": [
        "DF.head()"
      ],
      "metadata": {
        "colab": {
          "base_uri": "https://localhost:8080/",
          "height": 206
        },
        "id": "U83ICWFjp5UL",
        "outputId": "266b6fd2-35e3-4025-861f-c42f0d3ee369"
      },
      "execution_count": null,
      "outputs": [
        {
          "output_type": "execute_result",
          "data": {
            "text/plain": [
              "   Unnamed: 0    vote  age  economic.cond.national  economic.cond.household  \\\n",
              "0           1  Labour   43                       3                        3   \n",
              "1           2  Labour   36                       4                        4   \n",
              "2           3  Labour   35                       4                        4   \n",
              "3           4  Labour   24                       4                        2   \n",
              "4           5  Labour   41                       2                        2   \n",
              "\n",
              "   Blair  Hague  Europe  political.knowledge  gender  \n",
              "0      4      1       2                    2  female  \n",
              "1      4      4       5                    2    male  \n",
              "2      5      2       3                    2    male  \n",
              "3      2      1       4                    0  female  \n",
              "4      1      1       6                    2    male  "
            ],
            "text/html": [
              "\n",
              "  <div id=\"df-c490634f-b2b8-411e-9597-9f7c637457ca\">\n",
              "    <div class=\"colab-df-container\">\n",
              "      <div>\n",
              "<style scoped>\n",
              "    .dataframe tbody tr th:only-of-type {\n",
              "        vertical-align: middle;\n",
              "    }\n",
              "\n",
              "    .dataframe tbody tr th {\n",
              "        vertical-align: top;\n",
              "    }\n",
              "\n",
              "    .dataframe thead th {\n",
              "        text-align: right;\n",
              "    }\n",
              "</style>\n",
              "<table border=\"1\" class=\"dataframe\">\n",
              "  <thead>\n",
              "    <tr style=\"text-align: right;\">\n",
              "      <th></th>\n",
              "      <th>Unnamed: 0</th>\n",
              "      <th>vote</th>\n",
              "      <th>age</th>\n",
              "      <th>economic.cond.national</th>\n",
              "      <th>economic.cond.household</th>\n",
              "      <th>Blair</th>\n",
              "      <th>Hague</th>\n",
              "      <th>Europe</th>\n",
              "      <th>political.knowledge</th>\n",
              "      <th>gender</th>\n",
              "    </tr>\n",
              "  </thead>\n",
              "  <tbody>\n",
              "    <tr>\n",
              "      <th>0</th>\n",
              "      <td>1</td>\n",
              "      <td>Labour</td>\n",
              "      <td>43</td>\n",
              "      <td>3</td>\n",
              "      <td>3</td>\n",
              "      <td>4</td>\n",
              "      <td>1</td>\n",
              "      <td>2</td>\n",
              "      <td>2</td>\n",
              "      <td>female</td>\n",
              "    </tr>\n",
              "    <tr>\n",
              "      <th>1</th>\n",
              "      <td>2</td>\n",
              "      <td>Labour</td>\n",
              "      <td>36</td>\n",
              "      <td>4</td>\n",
              "      <td>4</td>\n",
              "      <td>4</td>\n",
              "      <td>4</td>\n",
              "      <td>5</td>\n",
              "      <td>2</td>\n",
              "      <td>male</td>\n",
              "    </tr>\n",
              "    <tr>\n",
              "      <th>2</th>\n",
              "      <td>3</td>\n",
              "      <td>Labour</td>\n",
              "      <td>35</td>\n",
              "      <td>4</td>\n",
              "      <td>4</td>\n",
              "      <td>5</td>\n",
              "      <td>2</td>\n",
              "      <td>3</td>\n",
              "      <td>2</td>\n",
              "      <td>male</td>\n",
              "    </tr>\n",
              "    <tr>\n",
              "      <th>3</th>\n",
              "      <td>4</td>\n",
              "      <td>Labour</td>\n",
              "      <td>24</td>\n",
              "      <td>4</td>\n",
              "      <td>2</td>\n",
              "      <td>2</td>\n",
              "      <td>1</td>\n",
              "      <td>4</td>\n",
              "      <td>0</td>\n",
              "      <td>female</td>\n",
              "    </tr>\n",
              "    <tr>\n",
              "      <th>4</th>\n",
              "      <td>5</td>\n",
              "      <td>Labour</td>\n",
              "      <td>41</td>\n",
              "      <td>2</td>\n",
              "      <td>2</td>\n",
              "      <td>1</td>\n",
              "      <td>1</td>\n",
              "      <td>6</td>\n",
              "      <td>2</td>\n",
              "      <td>male</td>\n",
              "    </tr>\n",
              "  </tbody>\n",
              "</table>\n",
              "</div>\n",
              "      <button class=\"colab-df-convert\" onclick=\"convertToInteractive('df-c490634f-b2b8-411e-9597-9f7c637457ca')\"\n",
              "              title=\"Convert this dataframe to an interactive table.\"\n",
              "              style=\"display:none;\">\n",
              "        \n",
              "  <svg xmlns=\"http://www.w3.org/2000/svg\" height=\"24px\"viewBox=\"0 0 24 24\"\n",
              "       width=\"24px\">\n",
              "    <path d=\"M0 0h24v24H0V0z\" fill=\"none\"/>\n",
              "    <path d=\"M18.56 5.44l.94 2.06.94-2.06 2.06-.94-2.06-.94-.94-2.06-.94 2.06-2.06.94zm-11 1L8.5 8.5l.94-2.06 2.06-.94-2.06-.94L8.5 2.5l-.94 2.06-2.06.94zm10 10l.94 2.06.94-2.06 2.06-.94-2.06-.94-.94-2.06-.94 2.06-2.06.94z\"/><path d=\"M17.41 7.96l-1.37-1.37c-.4-.4-.92-.59-1.43-.59-.52 0-1.04.2-1.43.59L10.3 9.45l-7.72 7.72c-.78.78-.78 2.05 0 2.83L4 21.41c.39.39.9.59 1.41.59.51 0 1.02-.2 1.41-.59l7.78-7.78 2.81-2.81c.8-.78.8-2.07 0-2.86zM5.41 20L4 18.59l7.72-7.72 1.47 1.35L5.41 20z\"/>\n",
              "  </svg>\n",
              "      </button>\n",
              "      \n",
              "  <style>\n",
              "    .colab-df-container {\n",
              "      display:flex;\n",
              "      flex-wrap:wrap;\n",
              "      gap: 12px;\n",
              "    }\n",
              "\n",
              "    .colab-df-convert {\n",
              "      background-color: #E8F0FE;\n",
              "      border: none;\n",
              "      border-radius: 50%;\n",
              "      cursor: pointer;\n",
              "      display: none;\n",
              "      fill: #1967D2;\n",
              "      height: 32px;\n",
              "      padding: 0 0 0 0;\n",
              "      width: 32px;\n",
              "    }\n",
              "\n",
              "    .colab-df-convert:hover {\n",
              "      background-color: #E2EBFA;\n",
              "      box-shadow: 0px 1px 2px rgba(60, 64, 67, 0.3), 0px 1px 3px 1px rgba(60, 64, 67, 0.15);\n",
              "      fill: #174EA6;\n",
              "    }\n",
              "\n",
              "    [theme=dark] .colab-df-convert {\n",
              "      background-color: #3B4455;\n",
              "      fill: #D2E3FC;\n",
              "    }\n",
              "\n",
              "    [theme=dark] .colab-df-convert:hover {\n",
              "      background-color: #434B5C;\n",
              "      box-shadow: 0px 1px 3px 1px rgba(0, 0, 0, 0.15);\n",
              "      filter: drop-shadow(0px 1px 2px rgba(0, 0, 0, 0.3));\n",
              "      fill: #FFFFFF;\n",
              "    }\n",
              "  </style>\n",
              "\n",
              "      <script>\n",
              "        const buttonEl =\n",
              "          document.querySelector('#df-c490634f-b2b8-411e-9597-9f7c637457ca button.colab-df-convert');\n",
              "        buttonEl.style.display =\n",
              "          google.colab.kernel.accessAllowed ? 'block' : 'none';\n",
              "\n",
              "        async function convertToInteractive(key) {\n",
              "          const element = document.querySelector('#df-c490634f-b2b8-411e-9597-9f7c637457ca');\n",
              "          const dataTable =\n",
              "            await google.colab.kernel.invokeFunction('convertToInteractive',\n",
              "                                                     [key], {});\n",
              "          if (!dataTable) return;\n",
              "\n",
              "          const docLinkHtml = 'Like what you see? Visit the ' +\n",
              "            '<a target=\"_blank\" href=https://colab.research.google.com/notebooks/data_table.ipynb>data table notebook</a>'\n",
              "            + ' to learn more about interactive tables.';\n",
              "          element.innerHTML = '';\n",
              "          dataTable['output_type'] = 'display_data';\n",
              "          await google.colab.output.renderOutput(dataTable, element);\n",
              "          const docLink = document.createElement('div');\n",
              "          docLink.innerHTML = docLinkHtml;\n",
              "          element.appendChild(docLink);\n",
              "        }\n",
              "      </script>\n",
              "    </div>\n",
              "  </div>\n",
              "  "
            ]
          },
          "metadata": {},
          "execution_count": 4
        }
      ]
    },
    {
      "cell_type": "code",
      "source": [
        "DF.info()"
      ],
      "metadata": {
        "colab": {
          "base_uri": "https://localhost:8080/"
        },
        "id": "Kw7-Um9yp7_r",
        "outputId": "7fd023e4-7a69-43c8-a254-2494d73b8043"
      },
      "execution_count": null,
      "outputs": [
        {
          "output_type": "stream",
          "name": "stdout",
          "text": [
            "<class 'pandas.core.frame.DataFrame'>\n",
            "RangeIndex: 1525 entries, 0 to 1524\n",
            "Data columns (total 10 columns):\n",
            " #   Column                   Non-Null Count  Dtype \n",
            "---  ------                   --------------  ----- \n",
            " 0   Unnamed: 0               1525 non-null   int64 \n",
            " 1   vote                     1525 non-null   object\n",
            " 2   age                      1525 non-null   int64 \n",
            " 3   economic.cond.national   1525 non-null   int64 \n",
            " 4   economic.cond.household  1525 non-null   int64 \n",
            " 5   Blair                    1525 non-null   int64 \n",
            " 6   Hague                    1525 non-null   int64 \n",
            " 7   Europe                   1525 non-null   int64 \n",
            " 8   political.knowledge      1525 non-null   int64 \n",
            " 9   gender                   1525 non-null   object\n",
            "dtypes: int64(8), object(2)\n",
            "memory usage: 119.3+ KB\n"
          ]
        }
      ]
    },
    {
      "cell_type": "code",
      "source": [
        "DF.describe()"
      ],
      "metadata": {
        "colab": {
          "base_uri": "https://localhost:8080/",
          "height": 300
        },
        "id": "QPZw5tcVqEDJ",
        "outputId": "1959ff6f-84d7-4850-8409-3aaf1d0030bb"
      },
      "execution_count": null,
      "outputs": [
        {
          "output_type": "execute_result",
          "data": {
            "text/plain": [
              "        Unnamed: 0          age  economic.cond.national  \\\n",
              "count  1525.000000  1525.000000             1525.000000   \n",
              "mean    763.000000    54.182295                3.245902   \n",
              "std     440.373894    15.711209                0.880969   \n",
              "min       1.000000    24.000000                1.000000   \n",
              "25%     382.000000    41.000000                3.000000   \n",
              "50%     763.000000    53.000000                3.000000   \n",
              "75%    1144.000000    67.000000                4.000000   \n",
              "max    1525.000000    93.000000                5.000000   \n",
              "\n",
              "       economic.cond.household        Blair        Hague       Europe  \\\n",
              "count              1525.000000  1525.000000  1525.000000  1525.000000   \n",
              "mean                  3.140328     3.334426     2.746885     6.728525   \n",
              "std                   0.929951     1.174824     1.230703     3.297538   \n",
              "min                   1.000000     1.000000     1.000000     1.000000   \n",
              "25%                   3.000000     2.000000     2.000000     4.000000   \n",
              "50%                   3.000000     4.000000     2.000000     6.000000   \n",
              "75%                   4.000000     4.000000     4.000000    10.000000   \n",
              "max                   5.000000     5.000000     5.000000    11.000000   \n",
              "\n",
              "       political.knowledge  \n",
              "count          1525.000000  \n",
              "mean              1.542295  \n",
              "std               1.083315  \n",
              "min               0.000000  \n",
              "25%               0.000000  \n",
              "50%               2.000000  \n",
              "75%               2.000000  \n",
              "max               3.000000  "
            ],
            "text/html": [
              "\n",
              "  <div id=\"df-5e02dfe2-c2e6-4697-9e21-332e086c8b55\">\n",
              "    <div class=\"colab-df-container\">\n",
              "      <div>\n",
              "<style scoped>\n",
              "    .dataframe tbody tr th:only-of-type {\n",
              "        vertical-align: middle;\n",
              "    }\n",
              "\n",
              "    .dataframe tbody tr th {\n",
              "        vertical-align: top;\n",
              "    }\n",
              "\n",
              "    .dataframe thead th {\n",
              "        text-align: right;\n",
              "    }\n",
              "</style>\n",
              "<table border=\"1\" class=\"dataframe\">\n",
              "  <thead>\n",
              "    <tr style=\"text-align: right;\">\n",
              "      <th></th>\n",
              "      <th>Unnamed: 0</th>\n",
              "      <th>age</th>\n",
              "      <th>economic.cond.national</th>\n",
              "      <th>economic.cond.household</th>\n",
              "      <th>Blair</th>\n",
              "      <th>Hague</th>\n",
              "      <th>Europe</th>\n",
              "      <th>political.knowledge</th>\n",
              "    </tr>\n",
              "  </thead>\n",
              "  <tbody>\n",
              "    <tr>\n",
              "      <th>count</th>\n",
              "      <td>1525.000000</td>\n",
              "      <td>1525.000000</td>\n",
              "      <td>1525.000000</td>\n",
              "      <td>1525.000000</td>\n",
              "      <td>1525.000000</td>\n",
              "      <td>1525.000000</td>\n",
              "      <td>1525.000000</td>\n",
              "      <td>1525.000000</td>\n",
              "    </tr>\n",
              "    <tr>\n",
              "      <th>mean</th>\n",
              "      <td>763.000000</td>\n",
              "      <td>54.182295</td>\n",
              "      <td>3.245902</td>\n",
              "      <td>3.140328</td>\n",
              "      <td>3.334426</td>\n",
              "      <td>2.746885</td>\n",
              "      <td>6.728525</td>\n",
              "      <td>1.542295</td>\n",
              "    </tr>\n",
              "    <tr>\n",
              "      <th>std</th>\n",
              "      <td>440.373894</td>\n",
              "      <td>15.711209</td>\n",
              "      <td>0.880969</td>\n",
              "      <td>0.929951</td>\n",
              "      <td>1.174824</td>\n",
              "      <td>1.230703</td>\n",
              "      <td>3.297538</td>\n",
              "      <td>1.083315</td>\n",
              "    </tr>\n",
              "    <tr>\n",
              "      <th>min</th>\n",
              "      <td>1.000000</td>\n",
              "      <td>24.000000</td>\n",
              "      <td>1.000000</td>\n",
              "      <td>1.000000</td>\n",
              "      <td>1.000000</td>\n",
              "      <td>1.000000</td>\n",
              "      <td>1.000000</td>\n",
              "      <td>0.000000</td>\n",
              "    </tr>\n",
              "    <tr>\n",
              "      <th>25%</th>\n",
              "      <td>382.000000</td>\n",
              "      <td>41.000000</td>\n",
              "      <td>3.000000</td>\n",
              "      <td>3.000000</td>\n",
              "      <td>2.000000</td>\n",
              "      <td>2.000000</td>\n",
              "      <td>4.000000</td>\n",
              "      <td>0.000000</td>\n",
              "    </tr>\n",
              "    <tr>\n",
              "      <th>50%</th>\n",
              "      <td>763.000000</td>\n",
              "      <td>53.000000</td>\n",
              "      <td>3.000000</td>\n",
              "      <td>3.000000</td>\n",
              "      <td>4.000000</td>\n",
              "      <td>2.000000</td>\n",
              "      <td>6.000000</td>\n",
              "      <td>2.000000</td>\n",
              "    </tr>\n",
              "    <tr>\n",
              "      <th>75%</th>\n",
              "      <td>1144.000000</td>\n",
              "      <td>67.000000</td>\n",
              "      <td>4.000000</td>\n",
              "      <td>4.000000</td>\n",
              "      <td>4.000000</td>\n",
              "      <td>4.000000</td>\n",
              "      <td>10.000000</td>\n",
              "      <td>2.000000</td>\n",
              "    </tr>\n",
              "    <tr>\n",
              "      <th>max</th>\n",
              "      <td>1525.000000</td>\n",
              "      <td>93.000000</td>\n",
              "      <td>5.000000</td>\n",
              "      <td>5.000000</td>\n",
              "      <td>5.000000</td>\n",
              "      <td>5.000000</td>\n",
              "      <td>11.000000</td>\n",
              "      <td>3.000000</td>\n",
              "    </tr>\n",
              "  </tbody>\n",
              "</table>\n",
              "</div>\n",
              "      <button class=\"colab-df-convert\" onclick=\"convertToInteractive('df-5e02dfe2-c2e6-4697-9e21-332e086c8b55')\"\n",
              "              title=\"Convert this dataframe to an interactive table.\"\n",
              "              style=\"display:none;\">\n",
              "        \n",
              "  <svg xmlns=\"http://www.w3.org/2000/svg\" height=\"24px\"viewBox=\"0 0 24 24\"\n",
              "       width=\"24px\">\n",
              "    <path d=\"M0 0h24v24H0V0z\" fill=\"none\"/>\n",
              "    <path d=\"M18.56 5.44l.94 2.06.94-2.06 2.06-.94-2.06-.94-.94-2.06-.94 2.06-2.06.94zm-11 1L8.5 8.5l.94-2.06 2.06-.94-2.06-.94L8.5 2.5l-.94 2.06-2.06.94zm10 10l.94 2.06.94-2.06 2.06-.94-2.06-.94-.94-2.06-.94 2.06-2.06.94z\"/><path d=\"M17.41 7.96l-1.37-1.37c-.4-.4-.92-.59-1.43-.59-.52 0-1.04.2-1.43.59L10.3 9.45l-7.72 7.72c-.78.78-.78 2.05 0 2.83L4 21.41c.39.39.9.59 1.41.59.51 0 1.02-.2 1.41-.59l7.78-7.78 2.81-2.81c.8-.78.8-2.07 0-2.86zM5.41 20L4 18.59l7.72-7.72 1.47 1.35L5.41 20z\"/>\n",
              "  </svg>\n",
              "      </button>\n",
              "      \n",
              "  <style>\n",
              "    .colab-df-container {\n",
              "      display:flex;\n",
              "      flex-wrap:wrap;\n",
              "      gap: 12px;\n",
              "    }\n",
              "\n",
              "    .colab-df-convert {\n",
              "      background-color: #E8F0FE;\n",
              "      border: none;\n",
              "      border-radius: 50%;\n",
              "      cursor: pointer;\n",
              "      display: none;\n",
              "      fill: #1967D2;\n",
              "      height: 32px;\n",
              "      padding: 0 0 0 0;\n",
              "      width: 32px;\n",
              "    }\n",
              "\n",
              "    .colab-df-convert:hover {\n",
              "      background-color: #E2EBFA;\n",
              "      box-shadow: 0px 1px 2px rgba(60, 64, 67, 0.3), 0px 1px 3px 1px rgba(60, 64, 67, 0.15);\n",
              "      fill: #174EA6;\n",
              "    }\n",
              "\n",
              "    [theme=dark] .colab-df-convert {\n",
              "      background-color: #3B4455;\n",
              "      fill: #D2E3FC;\n",
              "    }\n",
              "\n",
              "    [theme=dark] .colab-df-convert:hover {\n",
              "      background-color: #434B5C;\n",
              "      box-shadow: 0px 1px 3px 1px rgba(0, 0, 0, 0.15);\n",
              "      filter: drop-shadow(0px 1px 2px rgba(0, 0, 0, 0.3));\n",
              "      fill: #FFFFFF;\n",
              "    }\n",
              "  </style>\n",
              "\n",
              "      <script>\n",
              "        const buttonEl =\n",
              "          document.querySelector('#df-5e02dfe2-c2e6-4697-9e21-332e086c8b55 button.colab-df-convert');\n",
              "        buttonEl.style.display =\n",
              "          google.colab.kernel.accessAllowed ? 'block' : 'none';\n",
              "\n",
              "        async function convertToInteractive(key) {\n",
              "          const element = document.querySelector('#df-5e02dfe2-c2e6-4697-9e21-332e086c8b55');\n",
              "          const dataTable =\n",
              "            await google.colab.kernel.invokeFunction('convertToInteractive',\n",
              "                                                     [key], {});\n",
              "          if (!dataTable) return;\n",
              "\n",
              "          const docLinkHtml = 'Like what you see? Visit the ' +\n",
              "            '<a target=\"_blank\" href=https://colab.research.google.com/notebooks/data_table.ipynb>data table notebook</a>'\n",
              "            + ' to learn more about interactive tables.';\n",
              "          element.innerHTML = '';\n",
              "          dataTable['output_type'] = 'display_data';\n",
              "          await google.colab.output.renderOutput(dataTable, element);\n",
              "          const docLink = document.createElement('div');\n",
              "          docLink.innerHTML = docLinkHtml;\n",
              "          element.appendChild(docLink);\n",
              "        }\n",
              "      </script>\n",
              "    </div>\n",
              "  </div>\n",
              "  "
            ]
          },
          "metadata": {},
          "execution_count": 6
        }
      ]
    },
    {
      "cell_type": "code",
      "source": [
        "# Removing the Unnamed column as it is not necessary for our analysis\n",
        "DF.drop('Unnamed: 0', axis=1, inplace=True)"
      ],
      "metadata": {
        "id": "pFXMDSm_qRad"
      },
      "execution_count": null,
      "outputs": []
    },
    {
      "cell_type": "code",
      "source": [
        "DF.head()"
      ],
      "metadata": {
        "colab": {
          "base_uri": "https://localhost:8080/",
          "height": 206
        },
        "id": "VazYFUM4qRgY",
        "outputId": "0e97d9d1-b2f6-4763-dfb2-08157311c0bc"
      },
      "execution_count": null,
      "outputs": [
        {
          "output_type": "execute_result",
          "data": {
            "text/plain": [
              "     vote  age  economic.cond.national  economic.cond.household  Blair  Hague  \\\n",
              "0  Labour   43                       3                        3      4      1   \n",
              "1  Labour   36                       4                        4      4      4   \n",
              "2  Labour   35                       4                        4      5      2   \n",
              "3  Labour   24                       4                        2      2      1   \n",
              "4  Labour   41                       2                        2      1      1   \n",
              "\n",
              "   Europe  political.knowledge  gender  \n",
              "0       2                    2  female  \n",
              "1       5                    2    male  \n",
              "2       3                    2    male  \n",
              "3       4                    0  female  \n",
              "4       6                    2    male  "
            ],
            "text/html": [
              "\n",
              "  <div id=\"df-c3011c5b-d1cb-40d7-bb07-ea2da499cbad\">\n",
              "    <div class=\"colab-df-container\">\n",
              "      <div>\n",
              "<style scoped>\n",
              "    .dataframe tbody tr th:only-of-type {\n",
              "        vertical-align: middle;\n",
              "    }\n",
              "\n",
              "    .dataframe tbody tr th {\n",
              "        vertical-align: top;\n",
              "    }\n",
              "\n",
              "    .dataframe thead th {\n",
              "        text-align: right;\n",
              "    }\n",
              "</style>\n",
              "<table border=\"1\" class=\"dataframe\">\n",
              "  <thead>\n",
              "    <tr style=\"text-align: right;\">\n",
              "      <th></th>\n",
              "      <th>vote</th>\n",
              "      <th>age</th>\n",
              "      <th>economic.cond.national</th>\n",
              "      <th>economic.cond.household</th>\n",
              "      <th>Blair</th>\n",
              "      <th>Hague</th>\n",
              "      <th>Europe</th>\n",
              "      <th>political.knowledge</th>\n",
              "      <th>gender</th>\n",
              "    </tr>\n",
              "  </thead>\n",
              "  <tbody>\n",
              "    <tr>\n",
              "      <th>0</th>\n",
              "      <td>Labour</td>\n",
              "      <td>43</td>\n",
              "      <td>3</td>\n",
              "      <td>3</td>\n",
              "      <td>4</td>\n",
              "      <td>1</td>\n",
              "      <td>2</td>\n",
              "      <td>2</td>\n",
              "      <td>female</td>\n",
              "    </tr>\n",
              "    <tr>\n",
              "      <th>1</th>\n",
              "      <td>Labour</td>\n",
              "      <td>36</td>\n",
              "      <td>4</td>\n",
              "      <td>4</td>\n",
              "      <td>4</td>\n",
              "      <td>4</td>\n",
              "      <td>5</td>\n",
              "      <td>2</td>\n",
              "      <td>male</td>\n",
              "    </tr>\n",
              "    <tr>\n",
              "      <th>2</th>\n",
              "      <td>Labour</td>\n",
              "      <td>35</td>\n",
              "      <td>4</td>\n",
              "      <td>4</td>\n",
              "      <td>5</td>\n",
              "      <td>2</td>\n",
              "      <td>3</td>\n",
              "      <td>2</td>\n",
              "      <td>male</td>\n",
              "    </tr>\n",
              "    <tr>\n",
              "      <th>3</th>\n",
              "      <td>Labour</td>\n",
              "      <td>24</td>\n",
              "      <td>4</td>\n",
              "      <td>2</td>\n",
              "      <td>2</td>\n",
              "      <td>1</td>\n",
              "      <td>4</td>\n",
              "      <td>0</td>\n",
              "      <td>female</td>\n",
              "    </tr>\n",
              "    <tr>\n",
              "      <th>4</th>\n",
              "      <td>Labour</td>\n",
              "      <td>41</td>\n",
              "      <td>2</td>\n",
              "      <td>2</td>\n",
              "      <td>1</td>\n",
              "      <td>1</td>\n",
              "      <td>6</td>\n",
              "      <td>2</td>\n",
              "      <td>male</td>\n",
              "    </tr>\n",
              "  </tbody>\n",
              "</table>\n",
              "</div>\n",
              "      <button class=\"colab-df-convert\" onclick=\"convertToInteractive('df-c3011c5b-d1cb-40d7-bb07-ea2da499cbad')\"\n",
              "              title=\"Convert this dataframe to an interactive table.\"\n",
              "              style=\"display:none;\">\n",
              "        \n",
              "  <svg xmlns=\"http://www.w3.org/2000/svg\" height=\"24px\"viewBox=\"0 0 24 24\"\n",
              "       width=\"24px\">\n",
              "    <path d=\"M0 0h24v24H0V0z\" fill=\"none\"/>\n",
              "    <path d=\"M18.56 5.44l.94 2.06.94-2.06 2.06-.94-2.06-.94-.94-2.06-.94 2.06-2.06.94zm-11 1L8.5 8.5l.94-2.06 2.06-.94-2.06-.94L8.5 2.5l-.94 2.06-2.06.94zm10 10l.94 2.06.94-2.06 2.06-.94-2.06-.94-.94-2.06-.94 2.06-2.06.94z\"/><path d=\"M17.41 7.96l-1.37-1.37c-.4-.4-.92-.59-1.43-.59-.52 0-1.04.2-1.43.59L10.3 9.45l-7.72 7.72c-.78.78-.78 2.05 0 2.83L4 21.41c.39.39.9.59 1.41.59.51 0 1.02-.2 1.41-.59l7.78-7.78 2.81-2.81c.8-.78.8-2.07 0-2.86zM5.41 20L4 18.59l7.72-7.72 1.47 1.35L5.41 20z\"/>\n",
              "  </svg>\n",
              "      </button>\n",
              "      \n",
              "  <style>\n",
              "    .colab-df-container {\n",
              "      display:flex;\n",
              "      flex-wrap:wrap;\n",
              "      gap: 12px;\n",
              "    }\n",
              "\n",
              "    .colab-df-convert {\n",
              "      background-color: #E8F0FE;\n",
              "      border: none;\n",
              "      border-radius: 50%;\n",
              "      cursor: pointer;\n",
              "      display: none;\n",
              "      fill: #1967D2;\n",
              "      height: 32px;\n",
              "      padding: 0 0 0 0;\n",
              "      width: 32px;\n",
              "    }\n",
              "\n",
              "    .colab-df-convert:hover {\n",
              "      background-color: #E2EBFA;\n",
              "      box-shadow: 0px 1px 2px rgba(60, 64, 67, 0.3), 0px 1px 3px 1px rgba(60, 64, 67, 0.15);\n",
              "      fill: #174EA6;\n",
              "    }\n",
              "\n",
              "    [theme=dark] .colab-df-convert {\n",
              "      background-color: #3B4455;\n",
              "      fill: #D2E3FC;\n",
              "    }\n",
              "\n",
              "    [theme=dark] .colab-df-convert:hover {\n",
              "      background-color: #434B5C;\n",
              "      box-shadow: 0px 1px 3px 1px rgba(0, 0, 0, 0.15);\n",
              "      filter: drop-shadow(0px 1px 2px rgba(0, 0, 0, 0.3));\n",
              "      fill: #FFFFFF;\n",
              "    }\n",
              "  </style>\n",
              "\n",
              "      <script>\n",
              "        const buttonEl =\n",
              "          document.querySelector('#df-c3011c5b-d1cb-40d7-bb07-ea2da499cbad button.colab-df-convert');\n",
              "        buttonEl.style.display =\n",
              "          google.colab.kernel.accessAllowed ? 'block' : 'none';\n",
              "\n",
              "        async function convertToInteractive(key) {\n",
              "          const element = document.querySelector('#df-c3011c5b-d1cb-40d7-bb07-ea2da499cbad');\n",
              "          const dataTable =\n",
              "            await google.colab.kernel.invokeFunction('convertToInteractive',\n",
              "                                                     [key], {});\n",
              "          if (!dataTable) return;\n",
              "\n",
              "          const docLinkHtml = 'Like what you see? Visit the ' +\n",
              "            '<a target=\"_blank\" href=https://colab.research.google.com/notebooks/data_table.ipynb>data table notebook</a>'\n",
              "            + ' to learn more about interactive tables.';\n",
              "          element.innerHTML = '';\n",
              "          dataTable['output_type'] = 'display_data';\n",
              "          await google.colab.output.renderOutput(dataTable, element);\n",
              "          const docLink = document.createElement('div');\n",
              "          docLink.innerHTML = docLinkHtml;\n",
              "          element.appendChild(docLink);\n",
              "        }\n",
              "      </script>\n",
              "    </div>\n",
              "  </div>\n",
              "  "
            ]
          },
          "metadata": {},
          "execution_count": 8
        }
      ]
    },
    {
      "cell_type": "code",
      "source": [
        "DF.shape"
      ],
      "metadata": {
        "colab": {
          "base_uri": "https://localhost:8080/"
        },
        "id": "qpU4Rk5LqcgW",
        "outputId": "536ac948-4486-41b2-d1a3-1b0d6479c09e"
      },
      "execution_count": null,
      "outputs": [
        {
          "output_type": "execute_result",
          "data": {
            "text/plain": [
              "(1525, 9)"
            ]
          },
          "metadata": {},
          "execution_count": 9
        }
      ]
    },
    {
      "cell_type": "code",
      "source": [
        "dups = DF.duplicated()\n",
        "print('Number of duplicate rows = %d' % (dups.sum()))\n",
        "\n",
        "DF[dups]"
      ],
      "metadata": {
        "colab": {
          "base_uri": "https://localhost:8080/",
          "height": 318
        },
        "id": "dfSDA80uqj48",
        "outputId": "66f982bc-fd36-4cfd-c47e-fefd6db7b4a7"
      },
      "execution_count": null,
      "outputs": [
        {
          "output_type": "stream",
          "name": "stdout",
          "text": [
            "Number of duplicate rows = 8\n"
          ]
        },
        {
          "output_type": "execute_result",
          "data": {
            "text/plain": [
              "              vote  age  economic.cond.national  economic.cond.household  \\\n",
              "67          Labour   35                       4                        4   \n",
              "626         Labour   39                       3                        4   \n",
              "870         Labour   38                       2                        4   \n",
              "983   Conservative   74                       4                        3   \n",
              "1154  Conservative   53                       3                        4   \n",
              "1236        Labour   36                       3                        3   \n",
              "1244        Labour   29                       4                        4   \n",
              "1438        Labour   40                       4                        3   \n",
              "\n",
              "      Blair  Hague  Europe  political.knowledge  gender  \n",
              "67        5      2       3                    2    male  \n",
              "626       4      2       5                    2    male  \n",
              "870       2      2       4                    3    male  \n",
              "983       2      4       8                    2  female  \n",
              "1154      2      2       6                    0  female  \n",
              "1236      2      2       6                    2  female  \n",
              "1244      4      2       2                    2  female  \n",
              "1438      4      2       2                    2    male  "
            ],
            "text/html": [
              "\n",
              "  <div id=\"df-02e9c1d4-603b-4151-8e1c-1d9b9ad3d179\">\n",
              "    <div class=\"colab-df-container\">\n",
              "      <div>\n",
              "<style scoped>\n",
              "    .dataframe tbody tr th:only-of-type {\n",
              "        vertical-align: middle;\n",
              "    }\n",
              "\n",
              "    .dataframe tbody tr th {\n",
              "        vertical-align: top;\n",
              "    }\n",
              "\n",
              "    .dataframe thead th {\n",
              "        text-align: right;\n",
              "    }\n",
              "</style>\n",
              "<table border=\"1\" class=\"dataframe\">\n",
              "  <thead>\n",
              "    <tr style=\"text-align: right;\">\n",
              "      <th></th>\n",
              "      <th>vote</th>\n",
              "      <th>age</th>\n",
              "      <th>economic.cond.national</th>\n",
              "      <th>economic.cond.household</th>\n",
              "      <th>Blair</th>\n",
              "      <th>Hague</th>\n",
              "      <th>Europe</th>\n",
              "      <th>political.knowledge</th>\n",
              "      <th>gender</th>\n",
              "    </tr>\n",
              "  </thead>\n",
              "  <tbody>\n",
              "    <tr>\n",
              "      <th>67</th>\n",
              "      <td>Labour</td>\n",
              "      <td>35</td>\n",
              "      <td>4</td>\n",
              "      <td>4</td>\n",
              "      <td>5</td>\n",
              "      <td>2</td>\n",
              "      <td>3</td>\n",
              "      <td>2</td>\n",
              "      <td>male</td>\n",
              "    </tr>\n",
              "    <tr>\n",
              "      <th>626</th>\n",
              "      <td>Labour</td>\n",
              "      <td>39</td>\n",
              "      <td>3</td>\n",
              "      <td>4</td>\n",
              "      <td>4</td>\n",
              "      <td>2</td>\n",
              "      <td>5</td>\n",
              "      <td>2</td>\n",
              "      <td>male</td>\n",
              "    </tr>\n",
              "    <tr>\n",
              "      <th>870</th>\n",
              "      <td>Labour</td>\n",
              "      <td>38</td>\n",
              "      <td>2</td>\n",
              "      <td>4</td>\n",
              "      <td>2</td>\n",
              "      <td>2</td>\n",
              "      <td>4</td>\n",
              "      <td>3</td>\n",
              "      <td>male</td>\n",
              "    </tr>\n",
              "    <tr>\n",
              "      <th>983</th>\n",
              "      <td>Conservative</td>\n",
              "      <td>74</td>\n",
              "      <td>4</td>\n",
              "      <td>3</td>\n",
              "      <td>2</td>\n",
              "      <td>4</td>\n",
              "      <td>8</td>\n",
              "      <td>2</td>\n",
              "      <td>female</td>\n",
              "    </tr>\n",
              "    <tr>\n",
              "      <th>1154</th>\n",
              "      <td>Conservative</td>\n",
              "      <td>53</td>\n",
              "      <td>3</td>\n",
              "      <td>4</td>\n",
              "      <td>2</td>\n",
              "      <td>2</td>\n",
              "      <td>6</td>\n",
              "      <td>0</td>\n",
              "      <td>female</td>\n",
              "    </tr>\n",
              "    <tr>\n",
              "      <th>1236</th>\n",
              "      <td>Labour</td>\n",
              "      <td>36</td>\n",
              "      <td>3</td>\n",
              "      <td>3</td>\n",
              "      <td>2</td>\n",
              "      <td>2</td>\n",
              "      <td>6</td>\n",
              "      <td>2</td>\n",
              "      <td>female</td>\n",
              "    </tr>\n",
              "    <tr>\n",
              "      <th>1244</th>\n",
              "      <td>Labour</td>\n",
              "      <td>29</td>\n",
              "      <td>4</td>\n",
              "      <td>4</td>\n",
              "      <td>4</td>\n",
              "      <td>2</td>\n",
              "      <td>2</td>\n",
              "      <td>2</td>\n",
              "      <td>female</td>\n",
              "    </tr>\n",
              "    <tr>\n",
              "      <th>1438</th>\n",
              "      <td>Labour</td>\n",
              "      <td>40</td>\n",
              "      <td>4</td>\n",
              "      <td>3</td>\n",
              "      <td>4</td>\n",
              "      <td>2</td>\n",
              "      <td>2</td>\n",
              "      <td>2</td>\n",
              "      <td>male</td>\n",
              "    </tr>\n",
              "  </tbody>\n",
              "</table>\n",
              "</div>\n",
              "      <button class=\"colab-df-convert\" onclick=\"convertToInteractive('df-02e9c1d4-603b-4151-8e1c-1d9b9ad3d179')\"\n",
              "              title=\"Convert this dataframe to an interactive table.\"\n",
              "              style=\"display:none;\">\n",
              "        \n",
              "  <svg xmlns=\"http://www.w3.org/2000/svg\" height=\"24px\"viewBox=\"0 0 24 24\"\n",
              "       width=\"24px\">\n",
              "    <path d=\"M0 0h24v24H0V0z\" fill=\"none\"/>\n",
              "    <path d=\"M18.56 5.44l.94 2.06.94-2.06 2.06-.94-2.06-.94-.94-2.06-.94 2.06-2.06.94zm-11 1L8.5 8.5l.94-2.06 2.06-.94-2.06-.94L8.5 2.5l-.94 2.06-2.06.94zm10 10l.94 2.06.94-2.06 2.06-.94-2.06-.94-.94-2.06-.94 2.06-2.06.94z\"/><path d=\"M17.41 7.96l-1.37-1.37c-.4-.4-.92-.59-1.43-.59-.52 0-1.04.2-1.43.59L10.3 9.45l-7.72 7.72c-.78.78-.78 2.05 0 2.83L4 21.41c.39.39.9.59 1.41.59.51 0 1.02-.2 1.41-.59l7.78-7.78 2.81-2.81c.8-.78.8-2.07 0-2.86zM5.41 20L4 18.59l7.72-7.72 1.47 1.35L5.41 20z\"/>\n",
              "  </svg>\n",
              "      </button>\n",
              "      \n",
              "  <style>\n",
              "    .colab-df-container {\n",
              "      display:flex;\n",
              "      flex-wrap:wrap;\n",
              "      gap: 12px;\n",
              "    }\n",
              "\n",
              "    .colab-df-convert {\n",
              "      background-color: #E8F0FE;\n",
              "      border: none;\n",
              "      border-radius: 50%;\n",
              "      cursor: pointer;\n",
              "      display: none;\n",
              "      fill: #1967D2;\n",
              "      height: 32px;\n",
              "      padding: 0 0 0 0;\n",
              "      width: 32px;\n",
              "    }\n",
              "\n",
              "    .colab-df-convert:hover {\n",
              "      background-color: #E2EBFA;\n",
              "      box-shadow: 0px 1px 2px rgba(60, 64, 67, 0.3), 0px 1px 3px 1px rgba(60, 64, 67, 0.15);\n",
              "      fill: #174EA6;\n",
              "    }\n",
              "\n",
              "    [theme=dark] .colab-df-convert {\n",
              "      background-color: #3B4455;\n",
              "      fill: #D2E3FC;\n",
              "    }\n",
              "\n",
              "    [theme=dark] .colab-df-convert:hover {\n",
              "      background-color: #434B5C;\n",
              "      box-shadow: 0px 1px 3px 1px rgba(0, 0, 0, 0.15);\n",
              "      filter: drop-shadow(0px 1px 2px rgba(0, 0, 0, 0.3));\n",
              "      fill: #FFFFFF;\n",
              "    }\n",
              "  </style>\n",
              "\n",
              "      <script>\n",
              "        const buttonEl =\n",
              "          document.querySelector('#df-02e9c1d4-603b-4151-8e1c-1d9b9ad3d179 button.colab-df-convert');\n",
              "        buttonEl.style.display =\n",
              "          google.colab.kernel.accessAllowed ? 'block' : 'none';\n",
              "\n",
              "        async function convertToInteractive(key) {\n",
              "          const element = document.querySelector('#df-02e9c1d4-603b-4151-8e1c-1d9b9ad3d179');\n",
              "          const dataTable =\n",
              "            await google.colab.kernel.invokeFunction('convertToInteractive',\n",
              "                                                     [key], {});\n",
              "          if (!dataTable) return;\n",
              "\n",
              "          const docLinkHtml = 'Like what you see? Visit the ' +\n",
              "            '<a target=\"_blank\" href=https://colab.research.google.com/notebooks/data_table.ipynb>data table notebook</a>'\n",
              "            + ' to learn more about interactive tables.';\n",
              "          element.innerHTML = '';\n",
              "          dataTable['output_type'] = 'display_data';\n",
              "          await google.colab.output.renderOutput(dataTable, element);\n",
              "          const docLink = document.createElement('div');\n",
              "          docLink.innerHTML = docLinkHtml;\n",
              "          element.appendChild(docLink);\n",
              "        }\n",
              "      </script>\n",
              "    </div>\n",
              "  </div>\n",
              "  "
            ]
          },
          "metadata": {},
          "execution_count": 10
        }
      ]
    },
    {
      "cell_type": "code",
      "source": [
        "DF.drop_duplicates(inplace=True)"
      ],
      "metadata": {
        "id": "uKIHVN2hq-kQ"
      },
      "execution_count": null,
      "outputs": []
    },
    {
      "cell_type": "code",
      "source": [
        "DF.shape"
      ],
      "metadata": {
        "colab": {
          "base_uri": "https://localhost:8080/"
        },
        "id": "m6pJ2B3CrBSX",
        "outputId": "456f7f1b-a835-45a6-da4d-882a4854cb0d"
      },
      "execution_count": null,
      "outputs": [
        {
          "output_type": "execute_result",
          "data": {
            "text/plain": [
              "(1517, 9)"
            ]
          },
          "metadata": {},
          "execution_count": 12
        }
      ]
    },
    {
      "cell_type": "code",
      "source": [
        "dups = DF.duplicated()\n",
        "print('Number of duplicate rows = %d' % (dups.sum()))\n",
        "\n",
        "DF[dups]"
      ],
      "metadata": {
        "colab": {
          "base_uri": "https://localhost:8080/",
          "height": 68
        },
        "id": "xwWLU8dQ6mvd",
        "outputId": "46f4ec62-d860-4007-cf47-c19fe1facdc3"
      },
      "execution_count": null,
      "outputs": [
        {
          "output_type": "stream",
          "name": "stdout",
          "text": [
            "Number of duplicate rows = 0\n"
          ]
        },
        {
          "output_type": "execute_result",
          "data": {
            "text/plain": [
              "Empty DataFrame\n",
              "Columns: [vote, age, economic.cond.national, economic.cond.household, Blair, Hague, Europe, political.knowledge, gender]\n",
              "Index: []"
            ],
            "text/html": [
              "\n",
              "  <div id=\"df-617da31b-1db3-4ba6-b94e-1742d2858a34\">\n",
              "    <div class=\"colab-df-container\">\n",
              "      <div>\n",
              "<style scoped>\n",
              "    .dataframe tbody tr th:only-of-type {\n",
              "        vertical-align: middle;\n",
              "    }\n",
              "\n",
              "    .dataframe tbody tr th {\n",
              "        vertical-align: top;\n",
              "    }\n",
              "\n",
              "    .dataframe thead th {\n",
              "        text-align: right;\n",
              "    }\n",
              "</style>\n",
              "<table border=\"1\" class=\"dataframe\">\n",
              "  <thead>\n",
              "    <tr style=\"text-align: right;\">\n",
              "      <th></th>\n",
              "      <th>vote</th>\n",
              "      <th>age</th>\n",
              "      <th>economic.cond.national</th>\n",
              "      <th>economic.cond.household</th>\n",
              "      <th>Blair</th>\n",
              "      <th>Hague</th>\n",
              "      <th>Europe</th>\n",
              "      <th>political.knowledge</th>\n",
              "      <th>gender</th>\n",
              "    </tr>\n",
              "  </thead>\n",
              "  <tbody>\n",
              "  </tbody>\n",
              "</table>\n",
              "</div>\n",
              "      <button class=\"colab-df-convert\" onclick=\"convertToInteractive('df-617da31b-1db3-4ba6-b94e-1742d2858a34')\"\n",
              "              title=\"Convert this dataframe to an interactive table.\"\n",
              "              style=\"display:none;\">\n",
              "        \n",
              "  <svg xmlns=\"http://www.w3.org/2000/svg\" height=\"24px\"viewBox=\"0 0 24 24\"\n",
              "       width=\"24px\">\n",
              "    <path d=\"M0 0h24v24H0V0z\" fill=\"none\"/>\n",
              "    <path d=\"M18.56 5.44l.94 2.06.94-2.06 2.06-.94-2.06-.94-.94-2.06-.94 2.06-2.06.94zm-11 1L8.5 8.5l.94-2.06 2.06-.94-2.06-.94L8.5 2.5l-.94 2.06-2.06.94zm10 10l.94 2.06.94-2.06 2.06-.94-2.06-.94-.94-2.06-.94 2.06-2.06.94z\"/><path d=\"M17.41 7.96l-1.37-1.37c-.4-.4-.92-.59-1.43-.59-.52 0-1.04.2-1.43.59L10.3 9.45l-7.72 7.72c-.78.78-.78 2.05 0 2.83L4 21.41c.39.39.9.59 1.41.59.51 0 1.02-.2 1.41-.59l7.78-7.78 2.81-2.81c.8-.78.8-2.07 0-2.86zM5.41 20L4 18.59l7.72-7.72 1.47 1.35L5.41 20z\"/>\n",
              "  </svg>\n",
              "      </button>\n",
              "      \n",
              "  <style>\n",
              "    .colab-df-container {\n",
              "      display:flex;\n",
              "      flex-wrap:wrap;\n",
              "      gap: 12px;\n",
              "    }\n",
              "\n",
              "    .colab-df-convert {\n",
              "      background-color: #E8F0FE;\n",
              "      border: none;\n",
              "      border-radius: 50%;\n",
              "      cursor: pointer;\n",
              "      display: none;\n",
              "      fill: #1967D2;\n",
              "      height: 32px;\n",
              "      padding: 0 0 0 0;\n",
              "      width: 32px;\n",
              "    }\n",
              "\n",
              "    .colab-df-convert:hover {\n",
              "      background-color: #E2EBFA;\n",
              "      box-shadow: 0px 1px 2px rgba(60, 64, 67, 0.3), 0px 1px 3px 1px rgba(60, 64, 67, 0.15);\n",
              "      fill: #174EA6;\n",
              "    }\n",
              "\n",
              "    [theme=dark] .colab-df-convert {\n",
              "      background-color: #3B4455;\n",
              "      fill: #D2E3FC;\n",
              "    }\n",
              "\n",
              "    [theme=dark] .colab-df-convert:hover {\n",
              "      background-color: #434B5C;\n",
              "      box-shadow: 0px 1px 3px 1px rgba(0, 0, 0, 0.15);\n",
              "      filter: drop-shadow(0px 1px 2px rgba(0, 0, 0, 0.3));\n",
              "      fill: #FFFFFF;\n",
              "    }\n",
              "  </style>\n",
              "\n",
              "      <script>\n",
              "        const buttonEl =\n",
              "          document.querySelector('#df-617da31b-1db3-4ba6-b94e-1742d2858a34 button.colab-df-convert');\n",
              "        buttonEl.style.display =\n",
              "          google.colab.kernel.accessAllowed ? 'block' : 'none';\n",
              "\n",
              "        async function convertToInteractive(key) {\n",
              "          const element = document.querySelector('#df-617da31b-1db3-4ba6-b94e-1742d2858a34');\n",
              "          const dataTable =\n",
              "            await google.colab.kernel.invokeFunction('convertToInteractive',\n",
              "                                                     [key], {});\n",
              "          if (!dataTable) return;\n",
              "\n",
              "          const docLinkHtml = 'Like what you see? Visit the ' +\n",
              "            '<a target=\"_blank\" href=https://colab.research.google.com/notebooks/data_table.ipynb>data table notebook</a>'\n",
              "            + ' to learn more about interactive tables.';\n",
              "          element.innerHTML = '';\n",
              "          dataTable['output_type'] = 'display_data';\n",
              "          await google.colab.output.renderOutput(dataTable, element);\n",
              "          const docLink = document.createElement('div');\n",
              "          docLink.innerHTML = docLinkHtml;\n",
              "          element.appendChild(docLink);\n",
              "        }\n",
              "      </script>\n",
              "    </div>\n",
              "  </div>\n",
              "  "
            ]
          },
          "metadata": {},
          "execution_count": 13
        }
      ]
    },
    {
      "cell_type": "code",
      "source": [
        "cat=[]\n",
        "num=[]\n",
        "for i in DF.columns:\n",
        "    if DF[i].dtype==\"object\":\n",
        "        cat.append(i)\n",
        "    else:\n",
        "        num.append(i)\n",
        "print(cat) \n",
        "print(num)"
      ],
      "metadata": {
        "id": "1BlIpvzo-FzY",
        "colab": {
          "base_uri": "https://localhost:8080/"
        },
        "outputId": "87aca339-2284-4fb5-a4ab-8cac134a372f"
      },
      "execution_count": null,
      "outputs": [
        {
          "output_type": "stream",
          "name": "stdout",
          "text": [
            "['vote', 'gender']\n",
            "['age', 'economic.cond.national', 'economic.cond.household', 'Blair', 'Hague', 'Europe', 'political.knowledge']\n"
          ]
        }
      ]
    },
    {
      "cell_type": "code",
      "source": [
        "DF['vote'].value_counts()"
      ],
      "metadata": {
        "colab": {
          "base_uri": "https://localhost:8080/"
        },
        "id": "1TR2Fi-NraxF",
        "outputId": "6fff9a3d-1f88-496f-ed12-d0936b8791d0"
      },
      "execution_count": null,
      "outputs": [
        {
          "output_type": "execute_result",
          "data": {
            "text/plain": [
              "Labour          1057\n",
              "Conservative     460\n",
              "Name: vote, dtype: int64"
            ]
          },
          "metadata": {},
          "execution_count": 15
        }
      ]
    },
    {
      "cell_type": "code",
      "source": [
        "DF['gender'].value_counts()"
      ],
      "metadata": {
        "colab": {
          "base_uri": "https://localhost:8080/"
        },
        "id": "Plvhxj_Rrnjr",
        "outputId": "0c2d8b72-5e99-4dc4-c5ad-d9ed88f8dcb7"
      },
      "execution_count": null,
      "outputs": [
        {
          "output_type": "execute_result",
          "data": {
            "text/plain": [
              "female    808\n",
              "male      709\n",
              "Name: gender, dtype: int64"
            ]
          },
          "metadata": {},
          "execution_count": 16
        }
      ]
    },
    {
      "cell_type": "code",
      "source": [
        "DF.isnull().sum()"
      ],
      "metadata": {
        "colab": {
          "base_uri": "https://localhost:8080/"
        },
        "id": "s4ImGT4ErxJ7",
        "outputId": "c3cafd67-4055-417a-cc0c-1bc41224052d"
      },
      "execution_count": null,
      "outputs": [
        {
          "output_type": "execute_result",
          "data": {
            "text/plain": [
              "vote                       0\n",
              "age                        0\n",
              "economic.cond.national     0\n",
              "economic.cond.household    0\n",
              "Blair                      0\n",
              "Hague                      0\n",
              "Europe                     0\n",
              "political.knowledge        0\n",
              "gender                     0\n",
              "dtype: int64"
            ]
          },
          "metadata": {},
          "execution_count": 17
        }
      ]
    },
    {
      "cell_type": "markdown",
      "source": [
        "###From the above analysis I can see that- \n",
        "* The dataset originally had 1529 rows and 10 columns.\n",
        "* There was a column named Unnamed which was unnecessary so I have dropped that.\n",
        "* There are 2 columns which are categorical types and 7 columns are present in this dataset which are numeric variables.\n",
        "* There is no null value present in the Dataset. \n",
        "* There are 8 duplicate rows present in the Dataset.\n",
        "* After dropping the duplicate rows and unwanted column there are 1517 rows and 9 columns now in the dataset."
      ],
      "metadata": {
        "id": "Z8CUaUROr8Ie"
      }
    },
    {
      "cell_type": "markdown",
      "source": [
        "##Ans 1.2"
      ],
      "metadata": {
        "id": "259pF3KjX-rU"
      }
    },
    {
      "cell_type": "markdown",
      "source": [
        "###Univariate Analysis"
      ],
      "metadata": {
        "id": "wrp8mc8AwOMm"
      }
    },
    {
      "cell_type": "markdown",
      "source": [
        "###Numerical Variables"
      ],
      "metadata": {
        "id": "KyIq59V-wbZl"
      }
    },
    {
      "cell_type": "code",
      "source": [
        "fig, axes = plt.subplots(nrows=4,ncols=2)\n",
        "fig.set_size_inches(20,20)\n",
        "sns.histplot(DF['age'], kde=True, ax=axes[0][0])\n",
        "sns.boxplot(x='age', data=DF, ax=axes[0][1])\n",
        "sns.histplot(DF['economic.cond.national'] , kde=True, ax=axes[1][0])\n",
        "sns.boxplot(x='economic.cond.national', data=DF , ax=axes[1][1])\n",
        "sns.histplot(DF['economic.cond.household'] , kde=True, ax=axes[2][0])\n",
        "sns.boxplot(x='economic.cond.household', data=DF , ax=axes[2][1])\n",
        "sns.histplot(DF['Blair'], kde=True, ax=axes[3][0])\n",
        "sns.boxplot(x='Blair', data=DF, ax=axes[3][1])\n",
        "plt.show()"
      ],
      "metadata": {
        "colab": {
          "base_uri": "https://localhost:8080/",
          "height": 1000
        },
        "id": "IYv9zFY_wgOk",
        "outputId": "998b4959-f049-46b9-b54c-f7796c779f8c"
      },
      "execution_count": null,
      "outputs": [
        {
          "output_type": "display_data",
          "data": {
            "text/plain": [
              "<Figure size 1440x1440 with 8 Axes>"
            ],
            "image/png": "[encoded data removed]"
          },
          "metadata": {
            "needs_background": "light"
          }
        }
      ]
    },
    {
      "cell_type": "code",
      "source": [
        "fig, axes = plt.subplots(nrows=3,ncols=2)\n",
        "fig.set_size_inches(20,20)\n",
        "sns.histplot(DF['Hague'], kde=True, ax=axes[0][0])\n",
        "sns.boxplot(x='Hague', data=DF, ax=axes[0][1])\n",
        "sns.histplot(DF['Europe'] , kde=True, ax=axes[1][0])\n",
        "sns.boxplot(x='Europe', data=DF , ax=axes[1][1])\n",
        "sns.histplot(DF['political.knowledge'] , kde=True, ax=axes[2][0])\n",
        "sns.boxplot(x='political.knowledge', data=DF , ax=axes[2][1])\n",
        "plt.show()"
      ],
      "metadata": {
        "colab": {
          "base_uri": "https://localhost:8080/",
          "height": 1000
        },
        "id": "YeCgbBVEy6PR",
        "outputId": "52076d55-8983-4265-87ef-044faad887a8"
      },
      "execution_count": null,
      "outputs": [
        {
          "output_type": "display_data",
          "data": {
            "text/plain": [
              "<Figure size 1440x1440 with 6 Axes>"
            ],
            "image/png": "[encoded data removed]"
          },
          "metadata": {
            "needs_background": "light"
          }
        }
      ]
    },
    {
      "cell_type": "markdown",
      "source": [
        "###From the above visualization and analysis the data I can see that for\n",
        "\n",
        "* age - Data is normally distributed and the mean and median are almost same. The mean for age is 54.18 and the median is 53. The minimum age of the labour leader is 24 and the maximum age of the labour leader is 93. No outlier is detected.\n",
        "\n",
        "* economic.cond.national- Data is normally distributed and the mean and median are almost same. The mean is 3.25 and the median is 3. Assessment of current national economic conditions lies from 1 to 5. One outlier is detected.\n",
        "\n",
        "* economic.cond.household- Data is normally distributed and the mean and median are almost same. The mean is 3.14 and the median is 3. Assessment of current household economic conditions lies from 1 to 5. One outlier is detected.\n",
        "\n",
        "* Blair- Data is normally distributed and the mean and median are almost same. The mean is 3.33 and the median is 4. Assessment of the Labour leader lies from 1 to 5. No outlier is detected.\n",
        "\n",
        "* Hague- Data is normally distributed and the mean and median are almost same. The mean is 2.74 and the median is 2.  Assessment of the Conservative leader lies from 1 to 5. No outlier is detected.\n",
        "\n",
        "* Europe - Data is normally distributed and the mean and median are almost same. The mean is 6.72 and the median is 6. The rating of respondents' attitudes toward European integration lies from 1 to 11. No outlier is detected.\n",
        "\n",
        "* political.knowledge- Data is normally distributed and the mean and median are almost same. There is no left skew. The mean is 1.54 and the median is 2. The rating of knowledge of parties' positions on European integration lies from 0 to 3. No outlier is detected."
      ],
      "metadata": {
        "id": "tSROKnc0fb6X"
      }
    },
    {
      "cell_type": "markdown",
      "source": [
        "###Categorical Variables"
      ],
      "metadata": {
        "id": "dnogjZJOfXKW"
      }
    },
    {
      "cell_type": "code",
      "source": [
        "plt.figure(figsize=(10,8))\n",
        "sns.countplot(DF['vote']);"
      ],
      "metadata": {
        "colab": {
          "base_uri": "https://localhost:8080/",
          "height": 497
        },
        "id": "_49aFEr0zHYg",
        "outputId": "a34550e2-d622-430c-a790-4036fdc50d95"
      },
      "execution_count": null,
      "outputs": [
        {
          "output_type": "display_data",
          "data": {
            "text/plain": [
              "<Figure size 720x576 with 1 Axes>"
            ],
            "image/png": "[encoded data removed]"
          },
          "metadata": {
            "needs_background": "light"
          }
        }
      ]
    },
    {
      "cell_type": "markdown",
      "source": [
        "###From the visualization of categorical variable 'age' I can see that there are two parties, Labour and Conservative. As per the survey 1057 votes will go to the party Labour and 460 to the Conservative."
      ],
      "metadata": {
        "id": "aOkkhLaQmFcK"
      }
    },
    {
      "cell_type": "code",
      "source": [
        "plt.figure(figsize=(10,8))\n",
        "sns.countplot(DF['gender']);"
      ],
      "metadata": {
        "colab": {
          "base_uri": "https://localhost:8080/",
          "height": 497
        },
        "id": "UzH8D4oo0Ed8",
        "outputId": "b5cb070c-8f6a-4463-ef78-dead86e0e3bd"
      },
      "execution_count": null,
      "outputs": [
        {
          "output_type": "display_data",
          "data": {
            "text/plain": [
              "<Figure size 720x576 with 1 Axes>"
            ],
            "image/png": "[encoded data removed]"
          },
          "metadata": {
            "needs_background": "light"
          }
        }
      ]
    },
    {
      "cell_type": "markdown",
      "source": [
        "###From the visualization of categorical variable 'gender' I can see that the female voters are more in number than the male voters."
      ],
      "metadata": {
        "id": "9G8D6DC5mzq3"
      }
    },
    {
      "cell_type": "markdown",
      "source": [
        "###Bivariate Analysis"
      ],
      "metadata": {
        "id": "6l7c3uBO6Ld0"
      }
    },
    {
      "cell_type": "code",
      "source": [
        "sns.countplot(x='vote', hue='gender', data=DF)\n",
        "plt.show()"
      ],
      "metadata": {
        "colab": {
          "base_uri": "https://localhost:8080/",
          "height": 279
        },
        "id": "7_5I8QD_1a9J",
        "outputId": "319dc7fe-915c-48cf-dbdf-3585fdf17f54"
      },
      "execution_count": null,
      "outputs": [
        {
          "output_type": "display_data",
          "data": {
            "text/plain": [
              "<Figure size 432x288 with 1 Axes>"
            ],
            "image/png": "[encoded data removed]"
          },
          "metadata": {
            "needs_background": "light"
          }
        }
      ]
    },
    {
      "cell_type": "markdown",
      "source": [
        "###From the above visualization I can see the concentrations of votes both party has got on the basis voters' genders. "
      ],
      "metadata": {
        "id": "l_5jVNOCoImr"
      }
    },
    {
      "cell_type": "markdown",
      "source": [
        "###Multivariate Analysis"
      ],
      "metadata": {
        "id": "g8hQ-2QVYIpy"
      }
    },
    {
      "cell_type": "code",
      "source": [
        "sns.pairplot(DF)\n",
        "plt.show()"
      ],
      "metadata": {
        "colab": {
          "base_uri": "https://localhost:8080/",
          "height": 1000
        },
        "id": "MxphJfZt0qUH",
        "outputId": "bf550982-8164-4f79-89f1-41788cc1f215"
      },
      "execution_count": null,
      "outputs": [
        {
          "output_type": "display_data",
          "data": {
            "text/plain": [
              "<Figure size 1260x1260 with 56 Axes>"
            ],
            "image/png": "[encoded data removed]"
          },
          "metadata": {
            "needs_background": "light"
          }
        }
      ]
    },
    {
      "cell_type": "code",
      "source": [
        "plt.figure(figsize=(10,8))\n",
        "sns.heatmap(DF.corr(),annot=True,fmt=\".2f\");"
      ],
      "metadata": {
        "colab": {
          "base_uri": "https://localhost:8080/",
          "height": 607
        },
        "id": "k1-Wios71EOg",
        "outputId": "3763787a-5714-4c14-a9c6-07e1fac2a118"
      },
      "execution_count": null,
      "outputs": [
        {
          "output_type": "display_data",
          "data": {
            "text/plain": [
              "<Figure size 720x576 with 2 Axes>"
            ],
            "image/png": "[encoded data removed]"
          },
          "metadata": {
            "needs_background": "light"
          }
        }
      ]
    },
    {
      "cell_type": "markdown",
      "source": [
        "###From the above visualizations using pair plot and heatmap also I can clearly see that there is no correlation present between the variables."
      ],
      "metadata": {
        "id": "eGZkD1EqnlpX"
      }
    },
    {
      "cell_type": "code",
      "source": [
        "#Outliers Check\n",
        "cont=DF.dtypes[(DF.dtypes!='uint8') & (DF.dtypes!='bool')].index\n",
        "plt.figure(figsize=(10,10))\n",
        "DF[cont].boxplot(vert=0)\n",
        "plt.title('With Outliers',fontsize=16)\n",
        "plt.show()"
      ],
      "metadata": {
        "colab": {
          "base_uri": "https://localhost:8080/",
          "height": 609
        },
        "id": "LEVmnLIa0I7K",
        "outputId": "2d30ba28-1e85-4498-9314-62ab1fbb5cac"
      },
      "execution_count": null,
      "outputs": [
        {
          "output_type": "display_data",
          "data": {
            "text/plain": [
              "<Figure size 720x720 with 1 Axes>"
            ],
            "image/png": "[encoded data removed]"
          },
          "metadata": {
            "needs_background": "light"
          }
        }
      ]
    },
    {
      "cell_type": "markdown",
      "source": [
        "###As I have already seen during Univariate analysis and here also I can see that only for economic.cond.household and economic.cond.national there is one outlier in left skew in both case.\n",
        "###But as the variables are ordinal and there are a few outliers so I am not removing them."
      ],
      "metadata": {
        "id": "uMSh8VGZhhHV"
      }
    },
    {
      "cell_type": "markdown",
      "source": [
        "##Ans 1.3"
      ],
      "metadata": {
        "id": "Mwmxu_ba6Nbn"
      }
    },
    {
      "cell_type": "markdown",
      "source": [
        "###I will encode the categorical variables vote and gender. Below is the encoding for ordinal values:\n",
        "\n",
        "vote: Conservative = 1, Labour = 0\n",
        "\n",
        "gender: female = 1, male = 0"
      ],
      "metadata": {
        "id": "moMmUtUt6cVb"
      }
    },
    {
      "cell_type": "code",
      "source": [
        "DF['vote'].replace(to_replace='Conservative', value=1, inplace=True)\n",
        "DF['vote'].replace(to_replace='Labour', value=0, inplace=True)"
      ],
      "metadata": {
        "id": "72ZMADdL6bh0"
      },
      "execution_count": null,
      "outputs": []
    },
    {
      "cell_type": "code",
      "source": [
        "DF['gender'].replace(to_replace='female', value=1, inplace=True)\n",
        "DF['gender'].replace(to_replace='male', value=0, inplace=True)"
      ],
      "metadata": {
        "id": "G7PqdVmh6YC6"
      },
      "execution_count": null,
      "outputs": []
    },
    {
      "cell_type": "code",
      "source": [
        "DF.head()"
      ],
      "metadata": {
        "colab": {
          "base_uri": "https://localhost:8080/",
          "height": 206
        },
        "id": "W1hfM2a2V38t",
        "outputId": "68afc403-e63d-44f2-a2c5-55f2cfb156ef"
      },
      "execution_count": null,
      "outputs": [
        {
          "output_type": "execute_result",
          "data": {
            "text/plain": [
              "   vote  age  economic.cond.national  economic.cond.household  Blair  Hague  \\\n",
              "0     0   43                       3                        3      4      1   \n",
              "1     0   36                       4                        4      4      4   \n",
              "2     0   35                       4                        4      5      2   \n",
              "3     0   24                       4                        2      2      1   \n",
              "4     0   41                       2                        2      1      1   \n",
              "\n",
              "   Europe  political.knowledge  gender  \n",
              "0       2                    2       1  \n",
              "1       5                    2       0  \n",
              "2       3                    2       0  \n",
              "3       4                    0       1  \n",
              "4       6                    2       0  "
            ],
            "text/html": [
              "\n",
              "  <div id=\"df-12d5e300-dbbd-47d1-8c1e-0d1e6f598865\">\n",
              "    <div class=\"colab-df-container\">\n",
              "      <div>\n",
              "<style scoped>\n",
              "    .dataframe tbody tr th:only-of-type {\n",
              "        vertical-align: middle;\n",
              "    }\n",
              "\n",
              "    .dataframe tbody tr th {\n",
              "        vertical-align: top;\n",
              "    }\n",
              "\n",
              "    .dataframe thead th {\n",
              "        text-align: right;\n",
              "    }\n",
              "</style>\n",
              "<table border=\"1\" class=\"dataframe\">\n",
              "  <thead>\n",
              "    <tr style=\"text-align: right;\">\n",
              "      <th></th>\n",
              "      <th>vote</th>\n",
              "      <th>age</th>\n",
              "      <th>economic.cond.national</th>\n",
              "      <th>economic.cond.household</th>\n",
              "      <th>Blair</th>\n",
              "      <th>Hague</th>\n",
              "      <th>Europe</th>\n",
              "      <th>political.knowledge</th>\n",
              "      <th>gender</th>\n",
              "    </tr>\n",
              "  </thead>\n",
              "  <tbody>\n",
              "    <tr>\n",
              "      <th>0</th>\n",
              "      <td>0</td>\n",
              "      <td>43</td>\n",
              "      <td>3</td>\n",
              "      <td>3</td>\n",
              "      <td>4</td>\n",
              "      <td>1</td>\n",
              "      <td>2</td>\n",
              "      <td>2</td>\n",
              "      <td>1</td>\n",
              "    </tr>\n",
              "    <tr>\n",
              "      <th>1</th>\n",
              "      <td>0</td>\n",
              "      <td>36</td>\n",
              "      <td>4</td>\n",
              "      <td>4</td>\n",
              "      <td>4</td>\n",
              "      <td>4</td>\n",
              "      <td>5</td>\n",
              "      <td>2</td>\n",
              "      <td>0</td>\n",
              "    </tr>\n",
              "    <tr>\n",
              "      <th>2</th>\n",
              "      <td>0</td>\n",
              "      <td>35</td>\n",
              "      <td>4</td>\n",
              "      <td>4</td>\n",
              "      <td>5</td>\n",
              "      <td>2</td>\n",
              "      <td>3</td>\n",
              "      <td>2</td>\n",
              "      <td>0</td>\n",
              "    </tr>\n",
              "    <tr>\n",
              "      <th>3</th>\n",
              "      <td>0</td>\n",
              "      <td>24</td>\n",
              "      <td>4</td>\n",
              "      <td>2</td>\n",
              "      <td>2</td>\n",
              "      <td>1</td>\n",
              "      <td>4</td>\n",
              "      <td>0</td>\n",
              "      <td>1</td>\n",
              "    </tr>\n",
              "    <tr>\n",
              "      <th>4</th>\n",
              "      <td>0</td>\n",
              "      <td>41</td>\n",
              "      <td>2</td>\n",
              "      <td>2</td>\n",
              "      <td>1</td>\n",
              "      <td>1</td>\n",
              "      <td>6</td>\n",
              "      <td>2</td>\n",
              "      <td>0</td>\n",
              "    </tr>\n",
              "  </tbody>\n",
              "</table>\n",
              "</div>\n",
              "      <button class=\"colab-df-convert\" onclick=\"convertToInteractive('df-12d5e300-dbbd-47d1-8c1e-0d1e6f598865')\"\n",
              "              title=\"Convert this dataframe to an interactive table.\"\n",
              "              style=\"display:none;\">\n",
              "        \n",
              "  <svg xmlns=\"http://www.w3.org/2000/svg\" height=\"24px\"viewBox=\"0 0 24 24\"\n",
              "       width=\"24px\">\n",
              "    <path d=\"M0 0h24v24H0V0z\" fill=\"none\"/>\n",
              "    <path d=\"M18.56 5.44l.94 2.06.94-2.06 2.06-.94-2.06-.94-.94-2.06-.94 2.06-2.06.94zm-11 1L8.5 8.5l.94-2.06 2.06-.94-2.06-.94L8.5 2.5l-.94 2.06-2.06.94zm10 10l.94 2.06.94-2.06 2.06-.94-2.06-.94-.94-2.06-.94 2.06-2.06.94z\"/><path d=\"M17.41 7.96l-1.37-1.37c-.4-.4-.92-.59-1.43-.59-.52 0-1.04.2-1.43.59L10.3 9.45l-7.72 7.72c-.78.78-.78 2.05 0 2.83L4 21.41c.39.39.9.59 1.41.59.51 0 1.02-.2 1.41-.59l7.78-7.78 2.81-2.81c.8-.78.8-2.07 0-2.86zM5.41 20L4 18.59l7.72-7.72 1.47 1.35L5.41 20z\"/>\n",
              "  </svg>\n",
              "      </button>\n",
              "      \n",
              "  <style>\n",
              "    .colab-df-container {\n",
              "      display:flex;\n",
              "      flex-wrap:wrap;\n",
              "      gap: 12px;\n",
              "    }\n",
              "\n",
              "    .colab-df-convert {\n",
              "      background-color: #E8F0FE;\n",
              "      border: none;\n",
              "      border-radius: 50%;\n",
              "      cursor: pointer;\n",
              "      display: none;\n",
              "      fill: #1967D2;\n",
              "      height: 32px;\n",
              "      padding: 0 0 0 0;\n",
              "      width: 32px;\n",
              "    }\n",
              "\n",
              "    .colab-df-convert:hover {\n",
              "      background-color: #E2EBFA;\n",
              "      box-shadow: 0px 1px 2px rgba(60, 64, 67, 0.3), 0px 1px 3px 1px rgba(60, 64, 67, 0.15);\n",
              "      fill: #174EA6;\n",
              "    }\n",
              "\n",
              "    [theme=dark] .colab-df-convert {\n",
              "      background-color: #3B4455;\n",
              "      fill: #D2E3FC;\n",
              "    }\n",
              "\n",
              "    [theme=dark] .colab-df-convert:hover {\n",
              "      background-color: #434B5C;\n",
              "      box-shadow: 0px 1px 3px 1px rgba(0, 0, 0, 0.15);\n",
              "      filter: drop-shadow(0px 1px 2px rgba(0, 0, 0, 0.3));\n",
              "      fill: #FFFFFF;\n",
              "    }\n",
              "  </style>\n",
              "\n",
              "      <script>\n",
              "        const buttonEl =\n",
              "          document.querySelector('#df-12d5e300-dbbd-47d1-8c1e-0d1e6f598865 button.colab-df-convert');\n",
              "        buttonEl.style.display =\n",
              "          google.colab.kernel.accessAllowed ? 'block' : 'none';\n",
              "\n",
              "        async function convertToInteractive(key) {\n",
              "          const element = document.querySelector('#df-12d5e300-dbbd-47d1-8c1e-0d1e6f598865');\n",
              "          const dataTable =\n",
              "            await google.colab.kernel.invokeFunction('convertToInteractive',\n",
              "                                                     [key], {});\n",
              "          if (!dataTable) return;\n",
              "\n",
              "          const docLinkHtml = 'Like what you see? Visit the ' +\n",
              "            '<a target=\"_blank\" href=https://colab.research.google.com/notebooks/data_table.ipynb>data table notebook</a>'\n",
              "            + ' to learn more about interactive tables.';\n",
              "          element.innerHTML = '';\n",
              "          dataTable['output_type'] = 'display_data';\n",
              "          await google.colab.output.renderOutput(dataTable, element);\n",
              "          const docLink = document.createElement('div');\n",
              "          docLink.innerHTML = docLinkHtml;\n",
              "          element.appendChild(docLink);\n",
              "        }\n",
              "      </script>\n",
              "    </div>\n",
              "  </div>\n",
              "  "
            ]
          },
          "metadata": {},
          "execution_count": 28
        }
      ]
    },
    {
      "cell_type": "markdown",
      "source": [
        "###Here I am scaling the variables as continuous variables have different weightage using min-max technique."
      ],
      "metadata": {
        "id": "Vu-5bjNt9lVn"
      }
    },
    {
      "cell_type": "code",
      "source": [
        "cat=[]\n",
        "num=[]\n",
        "for i in DF.columns:\n",
        "    if DF[i].dtype==\"object\":\n",
        "        cat.append(i)\n",
        "    else:\n",
        "        num.append(i)\n",
        "print(cat) \n",
        "print(num)"
      ],
      "metadata": {
        "colab": {
          "base_uri": "https://localhost:8080/"
        },
        "id": "E1_eLS5K9rT5",
        "outputId": "23cfb472-5637-4173-a764-fe241dfabb19"
      },
      "execution_count": null,
      "outputs": [
        {
          "output_type": "stream",
          "name": "stdout",
          "text": [
            "[]\n",
            "['vote', 'age', 'economic.cond.national', 'economic.cond.household', 'Blair', 'Hague', 'Europe', 'political.knowledge', 'gender']\n"
          ]
        }
      ]
    },
    {
      "cell_type": "code",
      "source": [
        "num1=['age', 'economic.cond.national', 'economic.cond.household', 'Blair', 'Hague', 'Europe', 'political.knowledge', 'gender']\n",
        "### removing the target variable"
      ],
      "metadata": {
        "id": "PE25M1uP-ouk"
      },
      "execution_count": null,
      "outputs": []
    },
    {
      "cell_type": "code",
      "source": [
        "DF[num1] = DF[num1].apply(lambda x:(x-x.min()) / (x.max()-x.min()))"
      ],
      "metadata": {
        "id": "Z4WYi1H9CQGr"
      },
      "execution_count": null,
      "outputs": []
    },
    {
      "cell_type": "code",
      "source": [
        "## Check if the variables have been scaled or not\n",
        "DF.head()"
      ],
      "metadata": {
        "colab": {
          "base_uri": "https://localhost:8080/",
          "height": 206
        },
        "id": "cgBZETOyCYLv",
        "outputId": "26c39094-6533-49db-b80b-8c97d696284b"
      },
      "execution_count": null,
      "outputs": [
        {
          "output_type": "execute_result",
          "data": {
            "text/plain": [
              "   vote       age  economic.cond.national  economic.cond.household  Blair  \\\n",
              "0     0  0.275362                    0.50                     0.50   0.75   \n",
              "1     0  0.173913                    0.75                     0.75   0.75   \n",
              "2     0  0.159420                    0.75                     0.75   1.00   \n",
              "3     0  0.000000                    0.75                     0.25   0.25   \n",
              "4     0  0.246377                    0.25                     0.25   0.00   \n",
              "\n",
              "   Hague  Europe  political.knowledge  gender  \n",
              "0   0.00     0.1             0.666667     1.0  \n",
              "1   0.75     0.4             0.666667     0.0  \n",
              "2   0.25     0.2             0.666667     0.0  \n",
              "3   0.00     0.3             0.000000     1.0  \n",
              "4   0.00     0.5             0.666667     0.0  "
            ],
            "text/html": [
              "\n",
              "  <div id=\"df-a6554926-c66c-4955-b053-0af6851262cd\">\n",
              "    <div class=\"colab-df-container\">\n",
              "      <div>\n",
              "<style scoped>\n",
              "    .dataframe tbody tr th:only-of-type {\n",
              "        vertical-align: middle;\n",
              "    }\n",
              "\n",
              "    .dataframe tbody tr th {\n",
              "        vertical-align: top;\n",
              "    }\n",
              "\n",
              "    .dataframe thead th {\n",
              "        text-align: right;\n",
              "    }\n",
              "</style>\n",
              "<table border=\"1\" class=\"dataframe\">\n",
              "  <thead>\n",
              "    <tr style=\"text-align: right;\">\n",
              "      <th></th>\n",
              "      <th>vote</th>\n",
              "      <th>age</th>\n",
              "      <th>economic.cond.national</th>\n",
              "      <th>economic.cond.household</th>\n",
              "      <th>Blair</th>\n",
              "      <th>Hague</th>\n",
              "      <th>Europe</th>\n",
              "      <th>political.knowledge</th>\n",
              "      <th>gender</th>\n",
              "    </tr>\n",
              "  </thead>\n",
              "  <tbody>\n",
              "    <tr>\n",
              "      <th>0</th>\n",
              "      <td>0</td>\n",
              "      <td>0.275362</td>\n",
              "      <td>0.50</td>\n",
              "      <td>0.50</td>\n",
              "      <td>0.75</td>\n",
              "      <td>0.00</td>\n",
              "      <td>0.1</td>\n",
              "      <td>0.666667</td>\n",
              "      <td>1.0</td>\n",
              "    </tr>\n",
              "    <tr>\n",
              "      <th>1</th>\n",
              "      <td>0</td>\n",
              "      <td>0.173913</td>\n",
              "      <td>0.75</td>\n",
              "      <td>0.75</td>\n",
              "      <td>0.75</td>\n",
              "      <td>0.75</td>\n",
              "      <td>0.4</td>\n",
              "      <td>0.666667</td>\n",
              "      <td>0.0</td>\n",
              "    </tr>\n",
              "    <tr>\n",
              "      <th>2</th>\n",
              "      <td>0</td>\n",
              "      <td>0.159420</td>\n",
              "      <td>0.75</td>\n",
              "      <td>0.75</td>\n",
              "      <td>1.00</td>\n",
              "      <td>0.25</td>\n",
              "      <td>0.2</td>\n",
              "      <td>0.666667</td>\n",
              "      <td>0.0</td>\n",
              "    </tr>\n",
              "    <tr>\n",
              "      <th>3</th>\n",
              "      <td>0</td>\n",
              "      <td>0.000000</td>\n",
              "      <td>0.75</td>\n",
              "      <td>0.25</td>\n",
              "      <td>0.25</td>\n",
              "      <td>0.00</td>\n",
              "      <td>0.3</td>\n",
              "      <td>0.000000</td>\n",
              "      <td>1.0</td>\n",
              "    </tr>\n",
              "    <tr>\n",
              "      <th>4</th>\n",
              "      <td>0</td>\n",
              "      <td>0.246377</td>\n",
              "      <td>0.25</td>\n",
              "      <td>0.25</td>\n",
              "      <td>0.00</td>\n",
              "      <td>0.00</td>\n",
              "      <td>0.5</td>\n",
              "      <td>0.666667</td>\n",
              "      <td>0.0</td>\n",
              "    </tr>\n",
              "  </tbody>\n",
              "</table>\n",
              "</div>\n",
              "      <button class=\"colab-df-convert\" onclick=\"convertToInteractive('df-a6554926-c66c-4955-b053-0af6851262cd')\"\n",
              "              title=\"Convert this dataframe to an interactive table.\"\n",
              "              style=\"display:none;\">\n",
              "        \n",
              "  <svg xmlns=\"http://www.w3.org/2000/svg\" height=\"24px\"viewBox=\"0 0 24 24\"\n",
              "       width=\"24px\">\n",
              "    <path d=\"M0 0h24v24H0V0z\" fill=\"none\"/>\n",
              "    <path d=\"M18.56 5.44l.94 2.06.94-2.06 2.06-.94-2.06-.94-.94-2.06-.94 2.06-2.06.94zm-11 1L8.5 8.5l.94-2.06 2.06-.94-2.06-.94L8.5 2.5l-.94 2.06-2.06.94zm10 10l.94 2.06.94-2.06 2.06-.94-2.06-.94-.94-2.06-.94 2.06-2.06.94z\"/><path d=\"M17.41 7.96l-1.37-1.37c-.4-.4-.92-.59-1.43-.59-.52 0-1.04.2-1.43.59L10.3 9.45l-7.72 7.72c-.78.78-.78 2.05 0 2.83L4 21.41c.39.39.9.59 1.41.59.51 0 1.02-.2 1.41-.59l7.78-7.78 2.81-2.81c.8-.78.8-2.07 0-2.86zM5.41 20L4 18.59l7.72-7.72 1.47 1.35L5.41 20z\"/>\n",
              "  </svg>\n",
              "      </button>\n",
              "      \n",
              "  <style>\n",
              "    .colab-df-container {\n",
              "      display:flex;\n",
              "      flex-wrap:wrap;\n",
              "      gap: 12px;\n",
              "    }\n",
              "\n",
              "    .colab-df-convert {\n",
              "      background-color: #E8F0FE;\n",
              "      border: none;\n",
              "      border-radius: 50%;\n",
              "      cursor: pointer;\n",
              "      display: none;\n",
              "      fill: #1967D2;\n",
              "      height: 32px;\n",
              "      padding: 0 0 0 0;\n",
              "      width: 32px;\n",
              "    }\n",
              "\n",
              "    .colab-df-convert:hover {\n",
              "      background-color: #E2EBFA;\n",
              "      box-shadow: 0px 1px 2px rgba(60, 64, 67, 0.3), 0px 1px 3px 1px rgba(60, 64, 67, 0.15);\n",
              "      fill: #174EA6;\n",
              "    }\n",
              "\n",
              "    [theme=dark] .colab-df-convert {\n",
              "      background-color: #3B4455;\n",
              "      fill: #D2E3FC;\n",
              "    }\n",
              "\n",
              "    [theme=dark] .colab-df-convert:hover {\n",
              "      background-color: #434B5C;\n",
              "      box-shadow: 0px 1px 3px 1px rgba(0, 0, 0, 0.15);\n",
              "      filter: drop-shadow(0px 1px 2px rgba(0, 0, 0, 0.3));\n",
              "      fill: #FFFFFF;\n",
              "    }\n",
              "  </style>\n",
              "\n",
              "      <script>\n",
              "        const buttonEl =\n",
              "          document.querySelector('#df-a6554926-c66c-4955-b053-0af6851262cd button.colab-df-convert');\n",
              "        buttonEl.style.display =\n",
              "          google.colab.kernel.accessAllowed ? 'block' : 'none';\n",
              "\n",
              "        async function convertToInteractive(key) {\n",
              "          const element = document.querySelector('#df-a6554926-c66c-4955-b053-0af6851262cd');\n",
              "          const dataTable =\n",
              "            await google.colab.kernel.invokeFunction('convertToInteractive',\n",
              "                                                     [key], {});\n",
              "          if (!dataTable) return;\n",
              "\n",
              "          const docLinkHtml = 'Like what you see? Visit the ' +\n",
              "            '<a target=\"_blank\" href=https://colab.research.google.com/notebooks/data_table.ipynb>data table notebook</a>'\n",
              "            + ' to learn more about interactive tables.';\n",
              "          element.innerHTML = '';\n",
              "          dataTable['output_type'] = 'display_data';\n",
              "          await google.colab.output.renderOutput(dataTable, element);\n",
              "          const docLink = document.createElement('div');\n",
              "          docLink.innerHTML = docLinkHtml;\n",
              "          element.appendChild(docLink);\n",
              "        }\n",
              "      </script>\n",
              "    </div>\n",
              "  </div>\n",
              "  "
            ]
          },
          "metadata": {},
          "execution_count": 32
        }
      ]
    },
    {
      "cell_type": "markdown",
      "source": [
        "###Train and Test Split"
      ],
      "metadata": {
        "id": "lgdQ4LudCjVd"
      }
    },
    {
      "cell_type": "code",
      "source": [
        "# Copy all the predictor variables into X dataframe\n",
        "X = DF.drop('vote', axis=1)\n",
        "\n",
        "# Copy target into the y dataframe.  \n",
        "y = DF['vote']"
      ],
      "metadata": {
        "id": "DxFxXI44CmGk"
      },
      "execution_count": null,
      "outputs": []
    },
    {
      "cell_type": "code",
      "source": [
        "X.head()"
      ],
      "metadata": {
        "colab": {
          "base_uri": "https://localhost:8080/",
          "height": 206
        },
        "id": "aorJErq_C2b3",
        "outputId": "a2280380-fa7c-4d18-f39e-99a28010d09c"
      },
      "execution_count": null,
      "outputs": [
        {
          "output_type": "execute_result",
          "data": {
            "text/plain": [
              "        age  economic.cond.national  economic.cond.household  Blair  Hague  \\\n",
              "0  0.275362                    0.50                     0.50   0.75   0.00   \n",
              "1  0.173913                    0.75                     0.75   0.75   0.75   \n",
              "2  0.159420                    0.75                     0.75   1.00   0.25   \n",
              "3  0.000000                    0.75                     0.25   0.25   0.00   \n",
              "4  0.246377                    0.25                     0.25   0.00   0.00   \n",
              "\n",
              "   Europe  political.knowledge  gender  \n",
              "0     0.1             0.666667     1.0  \n",
              "1     0.4             0.666667     0.0  \n",
              "2     0.2             0.666667     0.0  \n",
              "3     0.3             0.000000     1.0  \n",
              "4     0.5             0.666667     0.0  "
            ],
            "text/html": [
              "\n",
              "  <div id=\"df-4daf5525-4c73-4ba5-bb40-4cf37b3fd040\">\n",
              "    <div class=\"colab-df-container\">\n",
              "      <div>\n",
              "<style scoped>\n",
              "    .dataframe tbody tr th:only-of-type {\n",
              "        vertical-align: middle;\n",
              "    }\n",
              "\n",
              "    .dataframe tbody tr th {\n",
              "        vertical-align: top;\n",
              "    }\n",
              "\n",
              "    .dataframe thead th {\n",
              "        text-align: right;\n",
              "    }\n",
              "</style>\n",
              "<table border=\"1\" class=\"dataframe\">\n",
              "  <thead>\n",
              "    <tr style=\"text-align: right;\">\n",
              "      <th></th>\n",
              "      <th>age</th>\n",
              "      <th>economic.cond.national</th>\n",
              "      <th>economic.cond.household</th>\n",
              "      <th>Blair</th>\n",
              "      <th>Hague</th>\n",
              "      <th>Europe</th>\n",
              "      <th>political.knowledge</th>\n",
              "      <th>gender</th>\n",
              "    </tr>\n",
              "  </thead>\n",
              "  <tbody>\n",
              "    <tr>\n",
              "      <th>0</th>\n",
              "      <td>0.275362</td>\n",
              "      <td>0.50</td>\n",
              "      <td>0.50</td>\n",
              "      <td>0.75</td>\n",
              "      <td>0.00</td>\n",
              "      <td>0.1</td>\n",
              "      <td>0.666667</td>\n",
              "      <td>1.0</td>\n",
              "    </tr>\n",
              "    <tr>\n",
              "      <th>1</th>\n",
              "      <td>0.173913</td>\n",
              "      <td>0.75</td>\n",
              "      <td>0.75</td>\n",
              "      <td>0.75</td>\n",
              "      <td>0.75</td>\n",
              "      <td>0.4</td>\n",
              "      <td>0.666667</td>\n",
              "      <td>0.0</td>\n",
              "    </tr>\n",
              "    <tr>\n",
              "      <th>2</th>\n",
              "      <td>0.159420</td>\n",
              "      <td>0.75</td>\n",
              "      <td>0.75</td>\n",
              "      <td>1.00</td>\n",
              "      <td>0.25</td>\n",
              "      <td>0.2</td>\n",
              "      <td>0.666667</td>\n",
              "      <td>0.0</td>\n",
              "    </tr>\n",
              "    <tr>\n",
              "      <th>3</th>\n",
              "      <td>0.000000</td>\n",
              "      <td>0.75</td>\n",
              "      <td>0.25</td>\n",
              "      <td>0.25</td>\n",
              "      <td>0.00</td>\n",
              "      <td>0.3</td>\n",
              "      <td>0.000000</td>\n",
              "      <td>1.0</td>\n",
              "    </tr>\n",
              "    <tr>\n",
              "      <th>4</th>\n",
              "      <td>0.246377</td>\n",
              "      <td>0.25</td>\n",
              "      <td>0.25</td>\n",
              "      <td>0.00</td>\n",
              "      <td>0.00</td>\n",
              "      <td>0.5</td>\n",
              "      <td>0.666667</td>\n",
              "      <td>0.0</td>\n",
              "    </tr>\n",
              "  </tbody>\n",
              "</table>\n",
              "</div>\n",
              "      <button class=\"colab-df-convert\" onclick=\"convertToInteractive('df-4daf5525-4c73-4ba5-bb40-4cf37b3fd040')\"\n",
              "              title=\"Convert this dataframe to an interactive table.\"\n",
              "              style=\"display:none;\">\n",
              "        \n",
              "  <svg xmlns=\"http://www.w3.org/2000/svg\" height=\"24px\"viewBox=\"0 0 24 24\"\n",
              "       width=\"24px\">\n",
              "    <path d=\"M0 0h24v24H0V0z\" fill=\"none\"/>\n",
              "    <path d=\"M18.56 5.44l.94 2.06.94-2.06 2.06-.94-2.06-.94-.94-2.06-.94 2.06-2.06.94zm-11 1L8.5 8.5l.94-2.06 2.06-.94-2.06-.94L8.5 2.5l-.94 2.06-2.06.94zm10 10l.94 2.06.94-2.06 2.06-.94-2.06-.94-.94-2.06-.94 2.06-2.06.94z\"/><path d=\"M17.41 7.96l-1.37-1.37c-.4-.4-.92-.59-1.43-.59-.52 0-1.04.2-1.43.59L10.3 9.45l-7.72 7.72c-.78.78-.78 2.05 0 2.83L4 21.41c.39.39.9.59 1.41.59.51 0 1.02-.2 1.41-.59l7.78-7.78 2.81-2.81c.8-.78.8-2.07 0-2.86zM5.41 20L4 18.59l7.72-7.72 1.47 1.35L5.41 20z\"/>\n",
              "  </svg>\n",
              "      </button>\n",
              "      \n",
              "  <style>\n",
              "    .colab-df-container {\n",
              "      display:flex;\n",
              "      flex-wrap:wrap;\n",
              "      gap: 12px;\n",
              "    }\n",
              "\n",
              "    .colab-df-convert {\n",
              "      background-color: #E8F0FE;\n",
              "      border: none;\n",
              "      border-radius: 50%;\n",
              "      cursor: pointer;\n",
              "      display: none;\n",
              "      fill: #1967D2;\n",
              "      height: 32px;\n",
              "      padding: 0 0 0 0;\n",
              "      width: 32px;\n",
              "    }\n",
              "\n",
              "    .colab-df-convert:hover {\n",
              "      background-color: #E2EBFA;\n",
              "      box-shadow: 0px 1px 2px rgba(60, 64, 67, 0.3), 0px 1px 3px 1px rgba(60, 64, 67, 0.15);\n",
              "      fill: #174EA6;\n",
              "    }\n",
              "\n",
              "    [theme=dark] .colab-df-convert {\n",
              "      background-color: #3B4455;\n",
              "      fill: #D2E3FC;\n",
              "    }\n",
              "\n",
              "    [theme=dark] .colab-df-convert:hover {\n",
              "      background-color: #434B5C;\n",
              "      box-shadow: 0px 1px 3px 1px rgba(0, 0, 0, 0.15);\n",
              "      filter: drop-shadow(0px 1px 2px rgba(0, 0, 0, 0.3));\n",
              "      fill: #FFFFFF;\n",
              "    }\n",
              "  </style>\n",
              "\n",
              "      <script>\n",
              "        const buttonEl =\n",
              "          document.querySelector('#df-4daf5525-4c73-4ba5-bb40-4cf37b3fd040 button.colab-df-convert');\n",
              "        buttonEl.style.display =\n",
              "          google.colab.kernel.accessAllowed ? 'block' : 'none';\n",
              "\n",
              "        async function convertToInteractive(key) {\n",
              "          const element = document.querySelector('#df-4daf5525-4c73-4ba5-bb40-4cf37b3fd040');\n",
              "          const dataTable =\n",
              "            await google.colab.kernel.invokeFunction('convertToInteractive',\n",
              "                                                     [key], {});\n",
              "          if (!dataTable) return;\n",
              "\n",
              "          const docLinkHtml = 'Like what you see? Visit the ' +\n",
              "            '<a target=\"_blank\" href=https://colab.research.google.com/notebooks/data_table.ipynb>data table notebook</a>'\n",
              "            + ' to learn more about interactive tables.';\n",
              "          element.innerHTML = '';\n",
              "          dataTable['output_type'] = 'display_data';\n",
              "          await google.colab.output.renderOutput(dataTable, element);\n",
              "          const docLink = document.createElement('div');\n",
              "          docLink.innerHTML = docLinkHtml;\n",
              "          element.appendChild(docLink);\n",
              "        }\n",
              "      </script>\n",
              "    </div>\n",
              "  </div>\n",
              "  "
            ]
          },
          "metadata": {},
          "execution_count": 34
        }
      ]
    },
    {
      "cell_type": "code",
      "source": [
        "y.head()"
      ],
      "metadata": {
        "colab": {
          "base_uri": "https://localhost:8080/"
        },
        "id": "LudiQtXgC7E5",
        "outputId": "c6be4ce6-9175-4972-ec14-d11a85151930"
      },
      "execution_count": null,
      "outputs": [
        {
          "output_type": "execute_result",
          "data": {
            "text/plain": [
              "0    0\n",
              "1    0\n",
              "2    0\n",
              "3    0\n",
              "4    0\n",
              "Name: vote, dtype: int64"
            ]
          },
          "metadata": {},
          "execution_count": 35
        }
      ]
    },
    {
      "cell_type": "code",
      "source": [
        "# Split X and y into training and test set in 70:30 ratio\n",
        "X_train, X_test, y_train, y_test = train_test_split(X, y, test_size=0.30 , random_state=1)"
      ],
      "metadata": {
        "id": "_5fzIxtRDFAU"
      },
      "execution_count": null,
      "outputs": []
    },
    {
      "cell_type": "markdown",
      "source": [
        "##Ans 1.4"
      ],
      "metadata": {
        "id": "7g8VqtAfDTij"
      }
    },
    {
      "cell_type": "markdown",
      "source": [
        "###Logistic Regression"
      ],
      "metadata": {
        "id": "24DvMsrjEGXP"
      }
    },
    {
      "cell_type": "code",
      "source": [
        "from sklearn.linear_model import LogisticRegression"
      ],
      "metadata": {
        "id": "piAwfyr8ENqj"
      },
      "execution_count": null,
      "outputs": []
    },
    {
      "cell_type": "code",
      "source": [
        "LR_Model= LogisticRegression()\n",
        "LR_Model.fit(X_train, y_train)"
      ],
      "metadata": {
        "colab": {
          "base_uri": "https://localhost:8080/"
        },
        "id": "McPE05pMDVOF",
        "outputId": "e004aa45-963a-4b12-c5b9-1021ec289b33"
      },
      "execution_count": null,
      "outputs": [
        {
          "output_type": "execute_result",
          "data": {
            "text/plain": [
              "LogisticRegression()"
            ]
          },
          "metadata": {},
          "execution_count": 40
        }
      ]
    },
    {
      "cell_type": "code",
      "source": [
        "model_score = LR_Model.score(X_train, y_train)\n",
        "model_score"
      ],
      "metadata": {
        "colab": {
          "base_uri": "https://localhost:8080/"
        },
        "id": "kdz72_dpErGa",
        "outputId": "48da188e-e109-4e5a-b944-a5f10390d53b"
      },
      "execution_count": null,
      "outputs": [
        {
          "output_type": "execute_result",
          "data": {
            "text/plain": [
              "0.8341187558906692"
            ]
          },
          "metadata": {},
          "execution_count": 41
        }
      ]
    },
    {
      "cell_type": "markdown",
      "source": [
        "###Linear Discriminant Analysis(LDA) algorithm"
      ],
      "metadata": {
        "id": "V0x7hTT5FFTv"
      }
    },
    {
      "cell_type": "code",
      "source": [
        "from sklearn.discriminant_analysis import LinearDiscriminantAnalysis"
      ],
      "metadata": {
        "id": "HUYKRnPBFJyr"
      },
      "execution_count": null,
      "outputs": []
    },
    {
      "cell_type": "code",
      "source": [
        "Lda_Model = LinearDiscriminantAnalysis()\n",
        "Lda_Model.fit(X_train,y_train)"
      ],
      "metadata": {
        "colab": {
          "base_uri": "https://localhost:8080/"
        },
        "id": "ewMV5op4FWog",
        "outputId": "28c81da3-1936-4fb9-f9c9-69ad747df7ae"
      },
      "execution_count": null,
      "outputs": [
        {
          "output_type": "execute_result",
          "data": {
            "text/plain": [
              "LinearDiscriminantAnalysis()"
            ]
          },
          "metadata": {},
          "execution_count": 43
        }
      ]
    },
    {
      "cell_type": "code",
      "source": [
        "model_score = Lda_Model.score(X_train, y_train)\n",
        "model_score"
      ],
      "metadata": {
        "colab": {
          "base_uri": "https://localhost:8080/"
        },
        "id": "7rGAM5qjFiQe",
        "outputId": "37b3975b-014d-41a9-cdc2-2f967301e897"
      },
      "execution_count": null,
      "outputs": [
        {
          "output_type": "execute_result",
          "data": {
            "text/plain": [
              "0.8341187558906692"
            ]
          },
          "metadata": {},
          "execution_count": 44
        }
      ]
    },
    {
      "cell_type": "markdown",
      "source": [
        "##Ans 1.5"
      ],
      "metadata": {
        "id": "znmRL8q89kTL"
      }
    },
    {
      "cell_type": "markdown",
      "source": [
        "###KNN Model"
      ],
      "metadata": {
        "id": "R_ktQze1G_Wu"
      }
    },
    {
      "cell_type": "code",
      "source": [
        "from sklearn.neighbors import KNeighborsClassifier"
      ],
      "metadata": {
        "id": "iLSYRsZAHCPt"
      },
      "execution_count": null,
      "outputs": []
    },
    {
      "cell_type": "code",
      "source": [
        "KNN_Model=KNeighborsClassifier()\n",
        "KNN_Model.fit(X_train,y_train)"
      ],
      "metadata": {
        "colab": {
          "base_uri": "https://localhost:8080/"
        },
        "id": "qegQdtTeHL4I",
        "outputId": "c0c1e3d4-a855-47e4-b34e-f2d58dac71ba"
      },
      "execution_count": null,
      "outputs": [
        {
          "output_type": "execute_result",
          "data": {
            "text/plain": [
              "KNeighborsClassifier()"
            ]
          },
          "metadata": {},
          "execution_count": 46
        }
      ]
    },
    {
      "cell_type": "code",
      "source": [
        "model_score = KNN_Model.score(X_train, y_train)\n",
        "model_score"
      ],
      "metadata": {
        "colab": {
          "base_uri": "https://localhost:8080/"
        },
        "id": "NYm_LsZlHQyy",
        "outputId": "75ecda1b-6e8e-4783-bfa0-a76eeb123f33"
      },
      "execution_count": null,
      "outputs": [
        {
          "output_type": "execute_result",
          "data": {
            "text/plain": [
              "0.8557964184731386"
            ]
          },
          "metadata": {},
          "execution_count": 47
        }
      ]
    },
    {
      "cell_type": "markdown",
      "source": [
        "###Naïve Bayes Model"
      ],
      "metadata": {
        "id": "noiaLNxwHarO"
      }
    },
    {
      "cell_type": "code",
      "source": [
        "from sklearn.naive_bayes import GaussianNB"
      ],
      "metadata": {
        "id": "2xa9EyoBHiOF"
      },
      "execution_count": null,
      "outputs": []
    },
    {
      "cell_type": "code",
      "source": [
        "NB_Model = GaussianNB()\n",
        "NB_Model.fit(X_train, y_train)"
      ],
      "metadata": {
        "colab": {
          "base_uri": "https://localhost:8080/"
        },
        "id": "lvXx2DtLHknP",
        "outputId": "aef88686-6179-4af3-d2aa-391dd4f4691f"
      },
      "execution_count": null,
      "outputs": [
        {
          "output_type": "execute_result",
          "data": {
            "text/plain": [
              "GaussianNB()"
            ]
          },
          "metadata": {},
          "execution_count": 49
        }
      ]
    },
    {
      "cell_type": "code",
      "source": [
        "model_score = NB_Model.score(X_train, y_train)\n",
        "model_score"
      ],
      "metadata": {
        "colab": {
          "base_uri": "https://localhost:8080/"
        },
        "id": "oDINFdscHolq",
        "outputId": "6ff70c10-866b-4321-8996-7d2adca4080d"
      },
      "execution_count": null,
      "outputs": [
        {
          "output_type": "execute_result",
          "data": {
            "text/plain": [
              "0.8350612629594723"
            ]
          },
          "metadata": {},
          "execution_count": 50
        }
      ]
    },
    {
      "cell_type": "markdown",
      "source": [
        "##Ans 1.6"
      ],
      "metadata": {
        "id": "YzPwJBvGHtDZ"
      }
    },
    {
      "cell_type": "markdown",
      "source": [
        "###Model Tuning"
      ],
      "metadata": {
        "id": "_UtIc7N6HvxL"
      }
    },
    {
      "cell_type": "markdown",
      "source": [
        "###Tuned Logistic Regression"
      ],
      "metadata": {
        "id": "IVdo_Rb_Iv7m"
      }
    },
    {
      "cell_type": "code",
      "source": [
        "param_grid = {\n",
        "    'penalty':['l2','l1','elasticnet'],\n",
        "    'tol':[0.0001,0.01,],\n",
        "    'random_state':[0,1,2],\n",
        "    'solver':['newton-cg', 'lbfgs', 'liblinear', 'sag', 'saga']    \n",
        "}\n",
        "\n",
        "clf = LogisticRegression()\n",
        "\n",
        "grid_search = GridSearchCV(estimator = clf, param_grid = param_grid, cv = 5)"
      ],
      "metadata": {
        "id": "yzewZ-1QIGmO"
      },
      "execution_count": null,
      "outputs": []
    },
    {
      "cell_type": "code",
      "source": [
        "grid_search.fit(X_train, y_train)"
      ],
      "metadata": {
        "colab": {
          "base_uri": "https://localhost:8080/"
        },
        "id": "Uu98bZR-I5hR",
        "outputId": "e855bc8d-b013-4e0c-fd39-e0164ca77b07"
      },
      "execution_count": null,
      "outputs": [
        {
          "output_type": "execute_result",
          "data": {
            "text/plain": [
              "GridSearchCV(cv=5, estimator=LogisticRegression(),\n",
              "             param_grid={'penalty': ['l2', 'l1', 'elasticnet'],\n",
              "                         'random_state': [0, 1, 2],\n",
              "                         'solver': ['newton-cg', 'lbfgs', 'liblinear', 'sag',\n",
              "                                    'saga'],\n",
              "                         'tol': [0.0001, 0.01]})"
            ]
          },
          "metadata": {},
          "execution_count": 52
        }
      ]
    },
    {
      "cell_type": "code",
      "source": [
        "grid_search.best_params_"
      ],
      "metadata": {
        "colab": {
          "base_uri": "https://localhost:8080/"
        },
        "id": "0ot25omOJTQ4",
        "outputId": "2df3e77d-7b51-4be4-90c8-35a508213037"
      },
      "execution_count": null,
      "outputs": [
        {
          "output_type": "execute_result",
          "data": {
            "text/plain": [
              "{'penalty': 'l1', 'random_state': 0, 'solver': 'liblinear', 'tol': 0.0001}"
            ]
          },
          "metadata": {},
          "execution_count": 53
        }
      ]
    },
    {
      "cell_type": "code",
      "source": [
        "best_grid = grid_search.best_estimator_"
      ],
      "metadata": {
        "id": "FzEAgWLnJW4S"
      },
      "execution_count": null,
      "outputs": []
    },
    {
      "cell_type": "code",
      "source": [
        "model_score = best_grid.score(X_train, y_train)\n",
        "model_score"
      ],
      "metadata": {
        "colab": {
          "base_uri": "https://localhost:8080/"
        },
        "id": "P_sNdsooBIK8",
        "outputId": "fdfd407b-588e-42e0-f02c-2caacf5627f7"
      },
      "execution_count": null,
      "outputs": [
        {
          "output_type": "execute_result",
          "data": {
            "text/plain": [
              "0.8350612629594723"
            ]
          },
          "metadata": {},
          "execution_count": 55
        }
      ]
    },
    {
      "cell_type": "markdown",
      "source": [
        "###Tuned LDA"
      ],
      "metadata": {
        "id": "AEv_BQmpKPmi"
      }
    },
    {
      "cell_type": "code",
      "source": [
        "param_grid = {\n",
        "    'tol':[0.0001,0.01,0.001,0.000000001],\n",
        "    'solver':['svd', 'lsqr', 'eigen']    \n",
        "}\n",
        "\n",
        "clf1 = LinearDiscriminantAnalysis()\n",
        "\n",
        "grid_search = GridSearchCV(estimator = clf1, param_grid = param_grid, cv = 5)"
      ],
      "metadata": {
        "id": "5ZhUt74mKPmj"
      },
      "execution_count": null,
      "outputs": []
    },
    {
      "cell_type": "code",
      "source": [
        "grid_search.fit(X_train, y_train)"
      ],
      "metadata": {
        "colab": {
          "base_uri": "https://localhost:8080/"
        },
        "outputId": "69af06b2-fc8b-4521-f61d-f0155b83347c",
        "id": "5Tsuxm0fKPmj"
      },
      "execution_count": null,
      "outputs": [
        {
          "output_type": "execute_result",
          "data": {
            "text/plain": [
              "GridSearchCV(cv=5, estimator=LinearDiscriminantAnalysis(),\n",
              "             param_grid={'solver': ['svd', 'lsqr', 'eigen'],\n",
              "                         'tol': [0.0001, 0.01, 0.001, 1e-09]})"
            ]
          },
          "metadata": {},
          "execution_count": 57
        }
      ]
    },
    {
      "cell_type": "code",
      "source": [
        "grid_search.best_params_"
      ],
      "metadata": {
        "colab": {
          "base_uri": "https://localhost:8080/"
        },
        "outputId": "94136227-0c9c-4ead-c12e-b3affc7bcce5",
        "id": "Rf1VKvsbKPmj"
      },
      "execution_count": null,
      "outputs": [
        {
          "output_type": "execute_result",
          "data": {
            "text/plain": [
              "{'solver': 'svd', 'tol': 0.0001}"
            ]
          },
          "metadata": {},
          "execution_count": 58
        }
      ]
    },
    {
      "cell_type": "code",
      "source": [
        "best_grid1 = grid_search.best_estimator_"
      ],
      "metadata": {
        "id": "yqnPLagPKPmj"
      },
      "execution_count": null,
      "outputs": []
    },
    {
      "cell_type": "code",
      "source": [
        "model_score = best_grid1.score(X_train, y_train)\n",
        "model_score"
      ],
      "metadata": {
        "colab": {
          "base_uri": "https://localhost:8080/"
        },
        "id": "arNJPSQfBW_p",
        "outputId": "23871617-9484-4834-cae3-f3ded40fa732"
      },
      "execution_count": null,
      "outputs": [
        {
          "output_type": "execute_result",
          "data": {
            "text/plain": [
              "0.8341187558906692"
            ]
          },
          "metadata": {},
          "execution_count": 60
        }
      ]
    },
    {
      "cell_type": "markdown",
      "source": [
        "###Tuned KNN"
      ],
      "metadata": {
        "id": "WM1fDorsLPH4"
      }
    },
    {
      "cell_type": "code",
      "source": [
        "param_grid = {\n",
        "    'weights':['uniform', 'distance'],\n",
        "    'algorithm' :['auto', 'ball_tree', 'kd_tree', 'brute'],\n",
        "    'leaf_size':[30,45,50],\n",
        "    'p':[2,1]\n",
        "}\n",
        "clf3 = KNeighborsClassifier()\n",
        "grid_search = GridSearchCV(estimator = clf3, param_grid = param_grid, cv = 5)"
      ],
      "metadata": {
        "id": "4b5bY3lFLPH5"
      },
      "execution_count": null,
      "outputs": []
    },
    {
      "cell_type": "code",
      "source": [
        "grid_search.fit(X_train, y_train)"
      ],
      "metadata": {
        "colab": {
          "base_uri": "https://localhost:8080/"
        },
        "outputId": "6eca596e-0460-43a0-9f48-6a8f02632008",
        "id": "jhmN-xUoLPH5"
      },
      "execution_count": null,
      "outputs": [
        {
          "output_type": "execute_result",
          "data": {
            "text/plain": [
              "GridSearchCV(cv=5, estimator=KNeighborsClassifier(),\n",
              "             param_grid={'algorithm': ['auto', 'ball_tree', 'kd_tree', 'brute'],\n",
              "                         'leaf_size': [30, 45, 50], 'p': [2, 1],\n",
              "                         'weights': ['uniform', 'distance']})"
            ]
          },
          "metadata": {},
          "execution_count": 62
        }
      ]
    },
    {
      "cell_type": "code",
      "source": [
        "grid_search.best_params_"
      ],
      "metadata": {
        "colab": {
          "base_uri": "https://localhost:8080/"
        },
        "outputId": "df639aba-994b-4cb5-a7b0-76f12dfe5257",
        "id": "YbtbkKwdLPH5"
      },
      "execution_count": null,
      "outputs": [
        {
          "output_type": "execute_result",
          "data": {
            "text/plain": [
              "{'algorithm': 'auto', 'leaf_size': 30, 'p': 2, 'weights': 'uniform'}"
            ]
          },
          "metadata": {},
          "execution_count": 63
        }
      ]
    },
    {
      "cell_type": "code",
      "source": [
        "best_grid2 = grid_search.best_estimator_"
      ],
      "metadata": {
        "id": "q7hxgxocLPH6"
      },
      "execution_count": null,
      "outputs": []
    },
    {
      "cell_type": "code",
      "source": [
        "model_score = best_grid2.score(X_train, y_train)\n",
        "model_score"
      ],
      "metadata": {
        "colab": {
          "base_uri": "https://localhost:8080/"
        },
        "id": "4ipy7ByFB8ht",
        "outputId": "1bbc99d8-8365-451c-e1e9-e1a69ee6e297"
      },
      "execution_count": null,
      "outputs": [
        {
          "output_type": "execute_result",
          "data": {
            "text/plain": [
              "0.8557964184731386"
            ]
          },
          "metadata": {},
          "execution_count": 65
        }
      ]
    },
    {
      "cell_type": "markdown",
      "source": [
        "###Bagging"
      ],
      "metadata": {
        "id": "k-gh-pibLp2p"
      }
    },
    {
      "cell_type": "code",
      "source": [
        "from sklearn.ensemble import RandomForestClassifier\n",
        "from sklearn.ensemble import BaggingClassifier\n",
        "RF_model=RandomForestClassifier(n_estimators=100,random_state=1)\n",
        "Bagging_Model=BaggingClassifier(base_estimator=RF_model,n_estimators=100,random_state=1)\n",
        "Bagging_Model.fit(X_train, y_train)"
      ],
      "metadata": {
        "colab": {
          "base_uri": "https://localhost:8080/"
        },
        "id": "apsSpun1eaLL",
        "outputId": "dcaa5be5-cc34-4532-df44-abaa3e7d9338"
      },
      "execution_count": null,
      "outputs": [
        {
          "output_type": "execute_result",
          "data": {
            "text/plain": [
              "BaggingClassifier(base_estimator=RandomForestClassifier(random_state=1),\n",
              "                  n_estimators=100, random_state=1)"
            ]
          },
          "metadata": {},
          "execution_count": 66
        }
      ]
    },
    {
      "cell_type": "code",
      "source": [
        "model_score = Bagging_Model.score(X_train, y_train)\n",
        "model_score"
      ],
      "metadata": {
        "colab": {
          "base_uri": "https://localhost:8080/"
        },
        "id": "yIapyr5gL8eE",
        "outputId": "be87b874-592d-4b4a-a1f8-9170d2658a6a"
      },
      "execution_count": null,
      "outputs": [
        {
          "output_type": "execute_result",
          "data": {
            "text/plain": [
              "0.9660697455230914"
            ]
          },
          "metadata": {},
          "execution_count": 67
        }
      ]
    },
    {
      "cell_type": "markdown",
      "source": [
        "###Boosting"
      ],
      "metadata": {
        "id": "V24doQ58MI3j"
      }
    },
    {
      "cell_type": "markdown",
      "source": [
        "###Ada Boost"
      ],
      "metadata": {
        "id": "89RXifaoMKTt"
      }
    },
    {
      "cell_type": "code",
      "source": [
        "from sklearn.ensemble import AdaBoostClassifier\n",
        "\n",
        "\n",
        "ADB_Model = AdaBoostClassifier(n_estimators=100,random_state=1)\n",
        "ADB_Model.fit(X_train,y_train)"
      ],
      "metadata": {
        "colab": {
          "base_uri": "https://localhost:8080/"
        },
        "id": "hcu_1KSbML9h",
        "outputId": "4c3f00cf-2218-494b-ae39-3773c1ece4ff"
      },
      "execution_count": null,
      "outputs": [
        {
          "output_type": "execute_result",
          "data": {
            "text/plain": [
              "AdaBoostClassifier(n_estimators=100, random_state=1)"
            ]
          },
          "metadata": {},
          "execution_count": 69
        }
      ]
    },
    {
      "cell_type": "code",
      "source": [
        "model_score = ADB_Model.score(X_train, y_train)\n",
        "model_score"
      ],
      "metadata": {
        "colab": {
          "base_uri": "https://localhost:8080/"
        },
        "id": "h5RGGrWqMPqU",
        "outputId": "1ae9973a-9e56-4edc-b820-29b41c206b16"
      },
      "execution_count": null,
      "outputs": [
        {
          "output_type": "execute_result",
          "data": {
            "text/plain": [
              "0.8501413760603205"
            ]
          },
          "metadata": {},
          "execution_count": 70
        }
      ]
    },
    {
      "cell_type": "markdown",
      "source": [
        "###Gradient Boosting"
      ],
      "metadata": {
        "id": "igROm529MY73"
      }
    },
    {
      "cell_type": "code",
      "source": [
        "from sklearn.ensemble import GradientBoostingClassifier\n",
        "GB_Model = GradientBoostingClassifier(random_state=1)\n",
        "GB_Model.fit(X_train, y_train)"
      ],
      "metadata": {
        "colab": {
          "base_uri": "https://localhost:8080/"
        },
        "id": "VvjEQFUTMbW6",
        "outputId": "77adc5c6-fdc3-420b-f8c2-add6edcffec8"
      },
      "execution_count": null,
      "outputs": [
        {
          "output_type": "execute_result",
          "data": {
            "text/plain": [
              "GradientBoostingClassifier(random_state=1)"
            ]
          },
          "metadata": {},
          "execution_count": 71
        }
      ]
    },
    {
      "cell_type": "code",
      "source": [
        "model_score = GB_Model.score(X_train, y_train)\n",
        "model_score"
      ],
      "metadata": {
        "colab": {
          "base_uri": "https://localhost:8080/"
        },
        "id": "askg9zSNMi_2",
        "outputId": "0bda2f78-8893-470e-a3d2-2110e94fd893"
      },
      "execution_count": null,
      "outputs": [
        {
          "output_type": "execute_result",
          "data": {
            "text/plain": [
              "0.8925541941564562"
            ]
          },
          "metadata": {},
          "execution_count": 72
        }
      ]
    },
    {
      "cell_type": "markdown",
      "source": [
        "##Ans 1.7"
      ],
      "metadata": {
        "id": "dlUwibztMq_N"
      }
    },
    {
      "cell_type": "markdown",
      "source": [
        "###Performance Metrics for Logistic Regression Model"
      ],
      "metadata": {
        "id": "mUi7UqDkMwu-"
      }
    },
    {
      "cell_type": "code",
      "source": [
        "y_train_predict = LR_Model.predict(X_train)\n",
        "y_test_predict = LR_Model.predict(X_test)"
      ],
      "metadata": {
        "id": "W1r6YsyFM2YP"
      },
      "execution_count": null,
      "outputs": []
    },
    {
      "cell_type": "code",
      "source": [
        "##train data set\n",
        "print(metrics.confusion_matrix(y_train, y_train_predict))\n",
        "print(metrics.classification_report(y_train, y_train_predict))"
      ],
      "metadata": {
        "colab": {
          "base_uri": "https://localhost:8080/"
        },
        "id": "g46Lh-4LMsne",
        "outputId": "deedb25b-ae33-462c-d48d-debbc81dfa25"
      },
      "execution_count": null,
      "outputs": [
        {
          "output_type": "stream",
          "name": "stdout",
          "text": [
            "[[692  62]\n",
            " [114 193]]\n",
            "              precision    recall  f1-score   support\n",
            "\n",
            "           0       0.86      0.92      0.89       754\n",
            "           1       0.76      0.63      0.69       307\n",
            "\n",
            "    accuracy                           0.83      1061\n",
            "   macro avg       0.81      0.77      0.79      1061\n",
            "weighted avg       0.83      0.83      0.83      1061\n",
            "\n"
          ]
        }
      ]
    },
    {
      "cell_type": "code",
      "source": [
        "##test data set\n",
        "print(metrics.confusion_matrix(y_test, y_test_predict))\n",
        "print(metrics.classification_report(y_test, y_test_predict))"
      ],
      "metadata": {
        "colab": {
          "base_uri": "https://localhost:8080/"
        },
        "id": "zWyoCjdDNbo5",
        "outputId": "9ca3786b-7752-4122-f6a2-1958495921ee"
      },
      "execution_count": null,
      "outputs": [
        {
          "output_type": "stream",
          "name": "stdout",
          "text": [
            "[[269  34]\n",
            " [ 45 108]]\n",
            "              precision    recall  f1-score   support\n",
            "\n",
            "           0       0.86      0.89      0.87       303\n",
            "           1       0.76      0.71      0.73       153\n",
            "\n",
            "    accuracy                           0.83       456\n",
            "   macro avg       0.81      0.80      0.80       456\n",
            "weighted avg       0.82      0.83      0.83       456\n",
            "\n"
          ]
        }
      ]
    },
    {
      "cell_type": "code",
      "source": [
        "# AUC and ROC for the training data\n",
        "\n",
        "trainprobs=LR_Model.predict_proba(X_train)\n",
        "print(pd.DataFrame(trainprobs,columns=['Conservative','Labour']))\n",
        "trainprobs=trainprobs[:,1]\n",
        "auc=roc_auc_score(y_train,trainprobs)\n",
        "print('AUC %.3f:'%auc)\n",
        "fpr,tpr,thresholds=roc_curve(y_train,trainprobs)\n",
        "plt.plot([0,1],[0,1],linestyle='--')\n",
        "plt.plot(fpr,tpr,marker='.')\n",
        "plt.show()"
      ],
      "metadata": {
        "colab": {
          "base_uri": "https://localhost:8080/",
          "height": 539
        },
        "id": "ghpS1PbfOzMZ",
        "outputId": "ed935fec-d36d-4342-a2fc-d04dd3cad00e"
      },
      "execution_count": null,
      "outputs": [
        {
          "output_type": "stream",
          "name": "stdout",
          "text": [
            "      Conservative    Labour\n",
            "0         0.092416  0.907584\n",
            "1         0.884658  0.115342\n",
            "2         0.688330  0.311670\n",
            "3         0.874177  0.125823\n",
            "4         0.973810  0.026190\n",
            "...            ...       ...\n",
            "1056      0.944016  0.055984\n",
            "1057      0.639340  0.360660\n",
            "1058      0.729095  0.270905\n",
            "1059      0.745989  0.254011\n",
            "1060      0.971782  0.028218\n",
            "\n",
            "[1061 rows x 2 columns]\n",
            "AUC 0.890:\n"
          ]
        },
        {
          "output_type": "display_data",
          "data": {
            "text/plain": [
              "<Figure size 432x288 with 1 Axes>"
            ],
            "image/png": "[encoded data removed]"
          },
          "metadata": {
            "needs_background": "light"
          }
        }
      ]
    },
    {
      "cell_type": "code",
      "source": [
        "# AUC and ROC for the testing data\n",
        "\n",
        "testprobs=LR_Model.predict_proba(X_test)\n",
        "testprobs=testprobs[:,1]\n",
        "auc=roc_auc_score(y_test,testprobs)\n",
        "print(\"AUC Score : %.3f\"%auc)\n",
        "fpr,tpr,thresholds=roc_curve(y_test,testprobs)\n",
        "plt.plot([0,1],[0,1],linestyle='--')\n",
        "plt.plot(fpr,tpr,marker='.')\n",
        "plt.show()"
      ],
      "metadata": {
        "colab": {
          "base_uri": "https://localhost:8080/",
          "height": 283
        },
        "id": "TnHpdmg3SB4V",
        "outputId": "98553938-40b7-4037-f991-f296c71a06c2"
      },
      "execution_count": null,
      "outputs": [
        {
          "output_type": "stream",
          "name": "stdout",
          "text": [
            "AUC Score : 0.884\n"
          ]
        },
        {
          "output_type": "display_data",
          "data": {
            "text/plain": [
              "<Figure size 432x288 with 1 Axes>"
            ],
            "image/png": "[encoded data removed]"
          },
          "metadata": {
            "needs_background": "light"
          }
        }
      ]
    },
    {
      "cell_type": "markdown",
      "source": [
        "###Performance Metrics for Linear Discriminant Analysis Model"
      ],
      "metadata": {
        "id": "XNgdeBCA_-Kf"
      }
    },
    {
      "cell_type": "code",
      "source": [
        "y_train_predict = Lda_Model.predict(X_train)\n",
        "y_test_predict = Lda_Model.predict(X_test)"
      ],
      "metadata": {
        "id": "dq1XpP1x_-Kg"
      },
      "execution_count": null,
      "outputs": []
    },
    {
      "cell_type": "code",
      "source": [
        "##train data set\n",
        "print(metrics.confusion_matrix(y_train, y_train_predict))\n",
        "print(metrics.classification_report(y_train, y_train_predict))"
      ],
      "metadata": {
        "colab": {
          "base_uri": "https://localhost:8080/"
        },
        "outputId": "05cfa17a-2736-4119-f1e1-baae6ae2d819",
        "id": "UW5d9EZo_-Kg"
      },
      "execution_count": null,
      "outputs": [
        {
          "output_type": "stream",
          "name": "stdout",
          "text": [
            "[[685  69]\n",
            " [107 200]]\n",
            "              precision    recall  f1-score   support\n",
            "\n",
            "           0       0.86      0.91      0.89       754\n",
            "           1       0.74      0.65      0.69       307\n",
            "\n",
            "    accuracy                           0.83      1061\n",
            "   macro avg       0.80      0.78      0.79      1061\n",
            "weighted avg       0.83      0.83      0.83      1061\n",
            "\n"
          ]
        }
      ]
    },
    {
      "cell_type": "code",
      "source": [
        "##test data set\n",
        "print(metrics.confusion_matrix(y_test, y_test_predict))\n",
        "print(metrics.classification_report(y_test, y_test_predict))"
      ],
      "metadata": {
        "colab": {
          "base_uri": "https://localhost:8080/"
        },
        "outputId": "a41ecefa-6886-4805-968e-28820ec8dd42",
        "id": "nzuq2SDJ_-Kh"
      },
      "execution_count": null,
      "outputs": [
        {
          "output_type": "stream",
          "name": "stdout",
          "text": [
            "[[269  34]\n",
            " [ 42 111]]\n",
            "              precision    recall  f1-score   support\n",
            "\n",
            "           0       0.86      0.89      0.88       303\n",
            "           1       0.77      0.73      0.74       153\n",
            "\n",
            "    accuracy                           0.83       456\n",
            "   macro avg       0.82      0.81      0.81       456\n",
            "weighted avg       0.83      0.83      0.83       456\n",
            "\n"
          ]
        }
      ]
    },
    {
      "cell_type": "code",
      "source": [
        "# AUC and ROC for the training data\n",
        "\n",
        "trainprobs=Lda_Model.predict_proba(X_train)\n",
        "print(pd.DataFrame(trainprobs,columns=['Conservative','Labour']))\n",
        "trainprobs=trainprobs[:,1]\n",
        "auc=roc_auc_score(y_train,trainprobs)\n",
        "print('AUC %.3f:'%auc)\n",
        "fpr,tpr,thresholds=roc_curve(y_train,trainprobs)\n",
        "plt.plot([0,1],[0,1],linestyle='--')\n",
        "plt.plot(fpr,tpr,marker='.')\n",
        "plt.show()"
      ],
      "metadata": {
        "colab": {
          "base_uri": "https://localhost:8080/",
          "height": 539
        },
        "outputId": "6ce44502-2762-4a9a-e83f-38af5ecfe144",
        "id": "30OPGhqy_-Kh"
      },
      "execution_count": null,
      "outputs": [
        {
          "output_type": "stream",
          "name": "stdout",
          "text": [
            "      Conservative    Labour\n",
            "0         0.050784  0.949216\n",
            "1         0.921759  0.078241\n",
            "2         0.692611  0.307389\n",
            "3         0.921037  0.078963\n",
            "4         0.987839  0.012161\n",
            "...            ...       ...\n",
            "1056      0.967431  0.032569\n",
            "1057      0.631676  0.368324\n",
            "1058      0.779112  0.220888\n",
            "1059      0.791611  0.208389\n",
            "1060      0.981132  0.018868\n",
            "\n",
            "[1061 rows x 2 columns]\n",
            "AUC 0.889:\n"
          ]
        },
        {
          "output_type": "display_data",
          "data": {
            "text/plain": [
              "<Figure size 432x288 with 1 Axes>"
            ],
            "image/png": "[encoded data removed]"
          },
          "metadata": {
            "needs_background": "light"
          }
        }
      ]
    },
    {
      "cell_type": "code",
      "source": [
        "# AUC and ROC for the testing data\n",
        "\n",
        "testprobs=Lda_Model.predict_proba(X_test)\n",
        "testprobs=testprobs[:,1]\n",
        "auc=roc_auc_score(y_test,testprobs)\n",
        "print(\"AUC Score : %.3f\"%auc)\n",
        "fpr,tpr,thresholds=roc_curve(y_test,testprobs)\n",
        "plt.plot([0,1],[0,1],linestyle='--')\n",
        "plt.plot(fpr,tpr,marker='.')\n",
        "plt.show()"
      ],
      "metadata": {
        "colab": {
          "base_uri": "https://localhost:8080/",
          "height": 283
        },
        "outputId": "5f64a779-49ff-42a9-f549-9e5ef785db47",
        "id": "VuGLmYKv_-Kh"
      },
      "execution_count": null,
      "outputs": [
        {
          "output_type": "stream",
          "name": "stdout",
          "text": [
            "AUC Score : 0.888\n"
          ]
        },
        {
          "output_type": "display_data",
          "data": {
            "text/plain": [
              "<Figure size 432x288 with 1 Axes>"
            ],
            "image/png": "[encoded data removed]"
          },
          "metadata": {
            "needs_background": "light"
          }
        }
      ]
    },
    {
      "cell_type": "markdown",
      "source": [
        "###Performance Metrics for KNN Model"
      ],
      "metadata": {
        "id": "Np50Ug8wAdxv"
      }
    },
    {
      "cell_type": "code",
      "source": [
        "y_train_predict = KNN_Model.predict(X_train)\n",
        "y_test_predict = KNN_Model.predict(X_test)"
      ],
      "metadata": {
        "id": "EdBJ002wAdxw"
      },
      "execution_count": null,
      "outputs": []
    },
    {
      "cell_type": "code",
      "source": [
        "##train data set\n",
        "print(metrics.confusion_matrix(y_train, y_train_predict))\n",
        "print(metrics.classification_report(y_train, y_train_predict))"
      ],
      "metadata": {
        "colab": {
          "base_uri": "https://localhost:8080/"
        },
        "outputId": "4cf21b6a-6ccb-4ee7-d04c-ad26aae76c05",
        "id": "017HntGJAdxw"
      },
      "execution_count": null,
      "outputs": [
        {
          "output_type": "stream",
          "name": "stdout",
          "text": [
            "[[687  67]\n",
            " [ 86 221]]\n",
            "              precision    recall  f1-score   support\n",
            "\n",
            "           0       0.89      0.91      0.90       754\n",
            "           1       0.77      0.72      0.74       307\n",
            "\n",
            "    accuracy                           0.86      1061\n",
            "   macro avg       0.83      0.82      0.82      1061\n",
            "weighted avg       0.85      0.86      0.85      1061\n",
            "\n"
          ]
        }
      ]
    },
    {
      "cell_type": "code",
      "source": [
        "##test data set\n",
        "print(metrics.confusion_matrix(y_test, y_test_predict))\n",
        "print(metrics.classification_report(y_test, y_test_predict))"
      ],
      "metadata": {
        "colab": {
          "base_uri": "https://localhost:8080/"
        },
        "outputId": "790dcbdc-3ea8-457d-cc1d-bd15529124e4",
        "id": "TJ9be5bJAdxw"
      },
      "execution_count": null,
      "outputs": [
        {
          "output_type": "stream",
          "name": "stdout",
          "text": [
            "[[266  37]\n",
            " [ 46 107]]\n",
            "              precision    recall  f1-score   support\n",
            "\n",
            "           0       0.85      0.88      0.87       303\n",
            "           1       0.74      0.70      0.72       153\n",
            "\n",
            "    accuracy                           0.82       456\n",
            "   macro avg       0.80      0.79      0.79       456\n",
            "weighted avg       0.82      0.82      0.82       456\n",
            "\n"
          ]
        }
      ]
    },
    {
      "cell_type": "code",
      "source": [
        "# AUC and ROC for the training data\n",
        "\n",
        "trainprobs=KNN_Model.predict_proba(X_train)\n",
        "print(pd.DataFrame(trainprobs,columns=['Conservative','Labour']))\n",
        "trainprobs=trainprobs[:,1]\n",
        "auc=roc_auc_score(y_train,trainprobs)\n",
        "print('AUC %.3f:'%auc)\n",
        "fpr,tpr,thresholds=roc_curve(y_train,trainprobs)\n",
        "plt.plot([0,1],[0,1],linestyle='--')\n",
        "plt.plot(fpr,tpr,marker='.')\n",
        "plt.show()"
      ],
      "metadata": {
        "colab": {
          "base_uri": "https://localhost:8080/",
          "height": 539
        },
        "outputId": "56ef8123-4b7f-43dd-c581-f39ef20da884",
        "id": "wysfNDiQAdxx"
      },
      "execution_count": null,
      "outputs": [
        {
          "output_type": "stream",
          "name": "stdout",
          "text": [
            "      Conservative  Labour\n",
            "0              0.0     1.0\n",
            "1              0.8     0.2\n",
            "2              0.6     0.4\n",
            "3              1.0     0.0\n",
            "4              1.0     0.0\n",
            "...            ...     ...\n",
            "1056           1.0     0.0\n",
            "1057           0.2     0.8\n",
            "1058           0.6     0.4\n",
            "1059           0.6     0.4\n",
            "1060           1.0     0.0\n",
            "\n",
            "[1061 rows x 2 columns]\n",
            "AUC 0.930:\n"
          ]
        },
        {
          "output_type": "display_data",
          "data": {
            "text/plain": [
              "<Figure size 432x288 with 1 Axes>"
            ],
            "image/png": "[encoded data removed]"
          },
          "metadata": {
            "needs_background": "light"
          }
        }
      ]
    },
    {
      "cell_type": "code",
      "source": [
        "# AUC and ROC for the testing data\n",
        "\n",
        "testprobs=KNN_Model.predict_proba(X_test)\n",
        "testprobs=testprobs[:,1]\n",
        "auc=roc_auc_score(y_test,testprobs)\n",
        "print(\"AUC Score : %.3f\"%auc)\n",
        "fpr,tpr,thresholds=roc_curve(y_test,testprobs)\n",
        "plt.plot([0,1],[0,1],linestyle='--')\n",
        "plt.plot(fpr,tpr,marker='.')\n",
        "plt.show()"
      ],
      "metadata": {
        "colab": {
          "base_uri": "https://localhost:8080/",
          "height": 283
        },
        "outputId": "0e719ece-e483-45a8-d43f-0cf76248b74a",
        "id": "WO2nZnSjAdxx"
      },
      "execution_count": null,
      "outputs": [
        {
          "output_type": "stream",
          "name": "stdout",
          "text": [
            "AUC Score : 0.873\n"
          ]
        },
        {
          "output_type": "display_data",
          "data": {
            "text/plain": [
              "<Figure size 432x288 with 1 Axes>"
            ],
            "image/png": "[encoded data removed]"
          },
          "metadata": {
            "needs_background": "light"
          }
        }
      ]
    },
    {
      "cell_type": "markdown",
      "source": [
        "###Performance Metrics for Naive Bayes Model"
      ],
      "metadata": {
        "id": "iF546M2_AtjZ"
      }
    },
    {
      "cell_type": "code",
      "source": [
        "y_train_predict = NB_Model.predict(X_train)\n",
        "y_test_predict = NB_Model.predict(X_test)"
      ],
      "metadata": {
        "id": "yhHNIk1lAtjZ"
      },
      "execution_count": null,
      "outputs": []
    },
    {
      "cell_type": "code",
      "source": [
        "##train data set\n",
        "print(metrics.confusion_matrix(y_train, y_train_predict))\n",
        "print(metrics.classification_report(y_train, y_train_predict))"
      ],
      "metadata": {
        "colab": {
          "base_uri": "https://localhost:8080/"
        },
        "outputId": "823e9a51-6a1c-4465-99f0-5cea0457673b",
        "id": "kMdf-vxRAtjZ"
      },
      "execution_count": null,
      "outputs": [
        {
          "output_type": "stream",
          "name": "stdout",
          "text": [
            "[[675  79]\n",
            " [ 96 211]]\n",
            "              precision    recall  f1-score   support\n",
            "\n",
            "           0       0.88      0.90      0.89       754\n",
            "           1       0.73      0.69      0.71       307\n",
            "\n",
            "    accuracy                           0.84      1061\n",
            "   macro avg       0.80      0.79      0.80      1061\n",
            "weighted avg       0.83      0.84      0.83      1061\n",
            "\n"
          ]
        }
      ]
    },
    {
      "cell_type": "code",
      "source": [
        "##test data set\n",
        "print(metrics.confusion_matrix(y_test, y_test_predict))\n",
        "print(metrics.classification_report(y_test, y_test_predict))"
      ],
      "metadata": {
        "colab": {
          "base_uri": "https://localhost:8080/"
        },
        "outputId": "8e0baf79-a60b-4a8d-8f61-020a938a25f5",
        "id": "ISVgJf_nAtja"
      },
      "execution_count": null,
      "outputs": [
        {
          "output_type": "stream",
          "name": "stdout",
          "text": [
            "[[263  40]\n",
            " [ 41 112]]\n",
            "              precision    recall  f1-score   support\n",
            "\n",
            "           0       0.87      0.87      0.87       303\n",
            "           1       0.74      0.73      0.73       153\n",
            "\n",
            "    accuracy                           0.82       456\n",
            "   macro avg       0.80      0.80      0.80       456\n",
            "weighted avg       0.82      0.82      0.82       456\n",
            "\n"
          ]
        }
      ]
    },
    {
      "cell_type": "code",
      "source": [
        "# AUC and ROC for the training data\n",
        "\n",
        "trainprobs=NB_Model.predict_proba(X_train)\n",
        "print(pd.DataFrame(trainprobs,columns=['Conservative','Labour']))\n",
        "trainprobs=trainprobs[:,1]\n",
        "auc=roc_auc_score(y_train,trainprobs)\n",
        "print('AUC %.3f:'%auc)\n",
        "fpr,tpr,thresholds=roc_curve(y_train,trainprobs)\n",
        "plt.plot([0,1],[0,1],linestyle='--')\n",
        "plt.plot(fpr,tpr,marker='.')\n",
        "plt.show()"
      ],
      "metadata": {
        "colab": {
          "base_uri": "https://localhost:8080/",
          "height": 539
        },
        "outputId": "96b58246-77aa-4426-ab1e-5c31d1d373b5",
        "id": "-jz7n6VOAtja"
      },
      "execution_count": null,
      "outputs": [
        {
          "output_type": "stream",
          "name": "stdout",
          "text": [
            "      Conservative    Labour\n",
            "0         0.015322  0.984678\n",
            "1         0.934563  0.065437\n",
            "2         0.728265  0.271735\n",
            "3         0.919974  0.080026\n",
            "4         0.992352  0.007648\n",
            "...            ...       ...\n",
            "1056      0.981285  0.018715\n",
            "1057      0.573086  0.426914\n",
            "1058      0.796009  0.203991\n",
            "1059      0.680974  0.319026\n",
            "1060      0.998151  0.001849\n",
            "\n",
            "[1061 rows x 2 columns]\n",
            "AUC 0.888:\n"
          ]
        },
        {
          "output_type": "display_data",
          "data": {
            "text/plain": [
              "<Figure size 432x288 with 1 Axes>"
            ],
            "image/png": "[encoded data removed]"
          },
          "metadata": {
            "needs_background": "light"
          }
        }
      ]
    },
    {
      "cell_type": "code",
      "source": [
        "# AUC and ROC for the testing data\n",
        "\n",
        "testprobs=NB_Model.predict_proba(X_test)\n",
        "testprobs=testprobs[:,1]\n",
        "auc=roc_auc_score(y_test,testprobs)\n",
        "print(\"AUC Score : %.3f\"%auc)\n",
        "fpr,tpr,thresholds=roc_curve(y_test,testprobs)\n",
        "plt.plot([0,1],[0,1],linestyle='--')\n",
        "plt.plot(fpr,tpr,marker='.')\n",
        "plt.show()"
      ],
      "metadata": {
        "colab": {
          "base_uri": "https://localhost:8080/",
          "height": 283
        },
        "outputId": "282877d8-b7b6-4a26-e082-d49449947d07",
        "id": "q5oZZGR_Atja"
      },
      "execution_count": null,
      "outputs": [
        {
          "output_type": "stream",
          "name": "stdout",
          "text": [
            "AUC Score : 0.876\n"
          ]
        },
        {
          "output_type": "display_data",
          "data": {
            "text/plain": [
              "<Figure size 432x288 with 1 Axes>"
            ],
            "image/png": "[encoded data removed]"
          },
          "metadata": {
            "needs_background": "light"
          }
        }
      ]
    },
    {
      "cell_type": "markdown",
      "source": [
        "###Performance Metrics for Tuned Logistic Regression Model"
      ],
      "metadata": {
        "id": "D5krZ6uABTPD"
      }
    },
    {
      "cell_type": "code",
      "source": [
        "y_train_predict = best_grid.predict(X_train)\n",
        "y_test_predict = best_grid.predict(X_test)"
      ],
      "metadata": {
        "id": "dygl45YqBTPE"
      },
      "execution_count": null,
      "outputs": []
    },
    {
      "cell_type": "code",
      "source": [
        "##train data set\n",
        "print(metrics.confusion_matrix(y_train, y_train_predict))\n",
        "print(metrics.classification_report(y_train, y_train_predict))"
      ],
      "metadata": {
        "colab": {
          "base_uri": "https://localhost:8080/"
        },
        "outputId": "a78f9192-b112-4337-a6e8-381e7c72b450",
        "id": "f4hL_oKJBTPE"
      },
      "execution_count": null,
      "outputs": [
        {
          "output_type": "stream",
          "name": "stdout",
          "text": [
            "[[692  62]\n",
            " [113 194]]\n",
            "              precision    recall  f1-score   support\n",
            "\n",
            "           0       0.86      0.92      0.89       754\n",
            "           1       0.76      0.63      0.69       307\n",
            "\n",
            "    accuracy                           0.84      1061\n",
            "   macro avg       0.81      0.77      0.79      1061\n",
            "weighted avg       0.83      0.84      0.83      1061\n",
            "\n"
          ]
        }
      ]
    },
    {
      "cell_type": "code",
      "source": [
        "##test data set\n",
        "print(metrics.confusion_matrix(y_test, y_test_predict))\n",
        "print(metrics.classification_report(y_test, y_test_predict))"
      ],
      "metadata": {
        "colab": {
          "base_uri": "https://localhost:8080/"
        },
        "outputId": "8d22d8cd-b57a-497e-d389-d37bc1c7c4e3",
        "id": "7h-QYYTABTPF"
      },
      "execution_count": null,
      "outputs": [
        {
          "output_type": "stream",
          "name": "stdout",
          "text": [
            "[[267  36]\n",
            " [ 43 110]]\n",
            "              precision    recall  f1-score   support\n",
            "\n",
            "           0       0.86      0.88      0.87       303\n",
            "           1       0.75      0.72      0.74       153\n",
            "\n",
            "    accuracy                           0.83       456\n",
            "   macro avg       0.81      0.80      0.80       456\n",
            "weighted avg       0.83      0.83      0.83       456\n",
            "\n"
          ]
        }
      ]
    },
    {
      "cell_type": "code",
      "source": [
        "# AUC and ROC for the training data\n",
        "\n",
        "trainprobs=best_grid.predict_proba(X_train)\n",
        "print(pd.DataFrame(trainprobs,columns=['Conservative','Labour']))\n",
        "trainprobs=trainprobs[:,1]\n",
        "auc=roc_auc_score(y_train,trainprobs)\n",
        "print('AUC %.3f:'%auc)\n",
        "fpr,tpr,thresholds=roc_curve(y_train,trainprobs)\n",
        "plt.plot([0,1],[0,1],linestyle='--')\n",
        "plt.plot(fpr,tpr,marker='.')\n",
        "plt.show()"
      ],
      "metadata": {
        "colab": {
          "base_uri": "https://localhost:8080/",
          "height": 539
        },
        "outputId": "0448d953-da2d-414c-82d4-449ef17f3426",
        "id": "DFU-vylcBTPF"
      },
      "execution_count": null,
      "outputs": [
        {
          "output_type": "stream",
          "name": "stdout",
          "text": [
            "      Conservative    Labour\n",
            "0         0.074734  0.925266\n",
            "1         0.886500  0.113500\n",
            "2         0.711217  0.288783\n",
            "3         0.874748  0.125252\n",
            "4         0.977996  0.022004\n",
            "...            ...       ...\n",
            "1056      0.950529  0.049471\n",
            "1057      0.633864  0.366136\n",
            "1058      0.752445  0.247555\n",
            "1059      0.733723  0.266277\n",
            "1060      0.971637  0.028363\n",
            "\n",
            "[1061 rows x 2 columns]\n",
            "AUC 0.890:\n"
          ]
        },
        {
          "output_type": "display_data",
          "data": {
            "text/plain": [
              "<Figure size 432x288 with 1 Axes>"
            ],
            "image/png": "[encoded data removed]"
          },
          "metadata": {
            "needs_background": "light"
          }
        }
      ]
    },
    {
      "cell_type": "code",
      "source": [
        "# AUC and ROC for the testing data\n",
        "\n",
        "testprobs=best_grid.predict_proba(X_test)\n",
        "testprobs=testprobs[:,1]\n",
        "auc=roc_auc_score(y_test,testprobs)\n",
        "print(\"AUC Score : %.3f\"%auc)\n",
        "fpr,tpr,thresholds=roc_curve(y_test,testprobs)\n",
        "plt.plot([0,1],[0,1],linestyle='--')\n",
        "plt.plot(fpr,tpr,marker='.')\n",
        "plt.show()"
      ],
      "metadata": {
        "colab": {
          "base_uri": "https://localhost:8080/",
          "height": 283
        },
        "outputId": "edcdeb75-26db-4b7c-9283-a06decf78311",
        "id": "bH3zdQaxBTPF"
      },
      "execution_count": null,
      "outputs": [
        {
          "output_type": "stream",
          "name": "stdout",
          "text": [
            "AUC Score : 0.882\n"
          ]
        },
        {
          "output_type": "display_data",
          "data": {
            "text/plain": [
              "<Figure size 432x288 with 1 Axes>"
            ],
            "image/png": "[encoded data removed]"
          },
          "metadata": {
            "needs_background": "light"
          }
        }
      ]
    },
    {
      "cell_type": "markdown",
      "source": [
        "###Performance Metrics for Tuned Linear Discriminant Analysis Model"
      ],
      "metadata": {
        "id": "cyZI7z_2Bx3I"
      }
    },
    {
      "cell_type": "code",
      "source": [
        "y_train_predict = best_grid1.predict(X_train)\n",
        "y_test_predict = best_grid1.predict(X_test)"
      ],
      "metadata": {
        "id": "OnwwRxT-Bx3J"
      },
      "execution_count": null,
      "outputs": []
    },
    {
      "cell_type": "code",
      "source": [
        "##train data set\n",
        "print(metrics.confusion_matrix(y_train, y_train_predict))\n",
        "print(metrics.classification_report(y_train, y_train_predict))"
      ],
      "metadata": {
        "colab": {
          "base_uri": "https://localhost:8080/"
        },
        "outputId": "35bee664-4daa-4eb3-9729-5427d7c9c963",
        "id": "5DlhYUScBx3J"
      },
      "execution_count": null,
      "outputs": [
        {
          "output_type": "stream",
          "name": "stdout",
          "text": [
            "[[685  69]\n",
            " [107 200]]\n",
            "              precision    recall  f1-score   support\n",
            "\n",
            "           0       0.86      0.91      0.89       754\n",
            "           1       0.74      0.65      0.69       307\n",
            "\n",
            "    accuracy                           0.83      1061\n",
            "   macro avg       0.80      0.78      0.79      1061\n",
            "weighted avg       0.83      0.83      0.83      1061\n",
            "\n"
          ]
        }
      ]
    },
    {
      "cell_type": "code",
      "source": [
        "##test data set\n",
        "print(metrics.confusion_matrix(y_test, y_test_predict))\n",
        "print(metrics.classification_report(y_test, y_test_predict))"
      ],
      "metadata": {
        "colab": {
          "base_uri": "https://localhost:8080/"
        },
        "outputId": "1476eaa7-9fcb-4441-e876-66b33c958501",
        "id": "-p9w1xsUBx3K"
      },
      "execution_count": null,
      "outputs": [
        {
          "output_type": "stream",
          "name": "stdout",
          "text": [
            "[[269  34]\n",
            " [ 42 111]]\n",
            "              precision    recall  f1-score   support\n",
            "\n",
            "           0       0.86      0.89      0.88       303\n",
            "           1       0.77      0.73      0.74       153\n",
            "\n",
            "    accuracy                           0.83       456\n",
            "   macro avg       0.82      0.81      0.81       456\n",
            "weighted avg       0.83      0.83      0.83       456\n",
            "\n"
          ]
        }
      ]
    },
    {
      "cell_type": "code",
      "source": [
        "# AUC and ROC for the training data\n",
        "\n",
        "trainprobs=best_grid1.predict_proba(X_train)\n",
        "print(pd.DataFrame(trainprobs,columns=['Conservative','Labour']))\n",
        "trainprobs=trainprobs[:,1]\n",
        "auc=roc_auc_score(y_train,trainprobs)\n",
        "print('AUC %.3f:'%auc)\n",
        "fpr,tpr,thresholds=roc_curve(y_train,trainprobs)\n",
        "plt.plot([0,1],[0,1],linestyle='--')\n",
        "plt.plot(fpr,tpr,marker='.')\n",
        "plt.show()"
      ],
      "metadata": {
        "colab": {
          "base_uri": "https://localhost:8080/",
          "height": 539
        },
        "outputId": "75d2e013-832d-483d-9288-6db9cdf4d6d0",
        "id": "D5W96OpJBx3K"
      },
      "execution_count": null,
      "outputs": [
        {
          "output_type": "stream",
          "name": "stdout",
          "text": [
            "      Conservative    Labour\n",
            "0         0.050784  0.949216\n",
            "1         0.921759  0.078241\n",
            "2         0.692611  0.307389\n",
            "3         0.921037  0.078963\n",
            "4         0.987839  0.012161\n",
            "...            ...       ...\n",
            "1056      0.967431  0.032569\n",
            "1057      0.631676  0.368324\n",
            "1058      0.779112  0.220888\n",
            "1059      0.791611  0.208389\n",
            "1060      0.981132  0.018868\n",
            "\n",
            "[1061 rows x 2 columns]\n",
            "AUC 0.889:\n"
          ]
        },
        {
          "output_type": "display_data",
          "data": {
            "text/plain": [
              "<Figure size 432x288 with 1 Axes>"
            ],
            "image/png": "[encoded data removed]"
          },
          "metadata": {
            "needs_background": "light"
          }
        }
      ]
    },
    {
      "cell_type": "code",
      "source": [
        "# AUC and ROC for the testing data\n",
        "\n",
        "testprobs=best_grid1.predict_proba(X_test)\n",
        "testprobs=testprobs[:,1]\n",
        "auc=roc_auc_score(y_test,testprobs)\n",
        "print(\"AUC Score : %.3f\"%auc)\n",
        "fpr,tpr,thresholds=roc_curve(y_test,testprobs)\n",
        "plt.plot([0,1],[0,1],linestyle='--')\n",
        "plt.plot(fpr,tpr,marker='.')\n",
        "plt.show()"
      ],
      "metadata": {
        "colab": {
          "base_uri": "https://localhost:8080/",
          "height": 283
        },
        "outputId": "300ef2c2-b5f3-418e-810d-a1bfaa5c96f4",
        "id": "sHTAacJ6Bx3K"
      },
      "execution_count": null,
      "outputs": [
        {
          "output_type": "stream",
          "name": "stdout",
          "text": [
            "AUC Score : 0.888\n"
          ]
        },
        {
          "output_type": "display_data",
          "data": {
            "text/plain": [
              "<Figure size 432x288 with 1 Axes>"
            ],
            "image/png": "[encoded data removed]"
          },
          "metadata": {
            "needs_background": "light"
          }
        }
      ]
    },
    {
      "cell_type": "markdown",
      "source": [
        "###Performance Metrics for Tuned KNN Model"
      ],
      "metadata": {
        "id": "uerUZy1aCCgj"
      }
    },
    {
      "cell_type": "code",
      "source": [
        "y_train_predict = best_grid2.predict(X_train)\n",
        "y_test_predict = best_grid2.predict(X_test)"
      ],
      "metadata": {
        "id": "WKGhLMR2CCgk"
      },
      "execution_count": null,
      "outputs": []
    },
    {
      "cell_type": "code",
      "source": [
        "##train data set\n",
        "print(metrics.confusion_matrix(y_train, y_train_predict))\n",
        "print(metrics.classification_report(y_train, y_train_predict))"
      ],
      "metadata": {
        "colab": {
          "base_uri": "https://localhost:8080/"
        },
        "outputId": "4fddea61-9262-49f2-b213-c9d7cb034418",
        "id": "mot_Re9rCCgl"
      },
      "execution_count": null,
      "outputs": [
        {
          "output_type": "stream",
          "name": "stdout",
          "text": [
            "[[687  67]\n",
            " [ 86 221]]\n",
            "              precision    recall  f1-score   support\n",
            "\n",
            "           0       0.89      0.91      0.90       754\n",
            "           1       0.77      0.72      0.74       307\n",
            "\n",
            "    accuracy                           0.86      1061\n",
            "   macro avg       0.83      0.82      0.82      1061\n",
            "weighted avg       0.85      0.86      0.85      1061\n",
            "\n"
          ]
        }
      ]
    },
    {
      "cell_type": "code",
      "source": [
        "##test data set\n",
        "print(metrics.confusion_matrix(y_test, y_test_predict))\n",
        "print(metrics.classification_report(y_test, y_test_predict))"
      ],
      "metadata": {
        "colab": {
          "base_uri": "https://localhost:8080/"
        },
        "outputId": "da66d230-b312-4478-f9a0-c822a6cfa886",
        "id": "Ffoq5_0xCCgl"
      },
      "execution_count": null,
      "outputs": [
        {
          "output_type": "stream",
          "name": "stdout",
          "text": [
            "[[266  37]\n",
            " [ 46 107]]\n",
            "              precision    recall  f1-score   support\n",
            "\n",
            "           0       0.85      0.88      0.87       303\n",
            "           1       0.74      0.70      0.72       153\n",
            "\n",
            "    accuracy                           0.82       456\n",
            "   macro avg       0.80      0.79      0.79       456\n",
            "weighted avg       0.82      0.82      0.82       456\n",
            "\n"
          ]
        }
      ]
    },
    {
      "cell_type": "code",
      "source": [
        "# AUC and ROC for the training data\n",
        "\n",
        "trainprobs=best_grid2.predict_proba(X_train)\n",
        "print(pd.DataFrame(trainprobs,columns=['Conservative','Labour']))\n",
        "trainprobs=trainprobs[:,1]\n",
        "auc=roc_auc_score(y_train,trainprobs)\n",
        "print('AUC %.3f:'%auc)\n",
        "fpr,tpr,thresholds=roc_curve(y_train,trainprobs)\n",
        "plt.plot([0,1],[0,1],linestyle='--')\n",
        "plt.plot(fpr,tpr,marker='.')\n",
        "plt.show()"
      ],
      "metadata": {
        "colab": {
          "base_uri": "https://localhost:8080/",
          "height": 539
        },
        "outputId": "66137582-d15c-49e0-9432-868bf023c21e",
        "id": "mrjXslgWCCgl"
      },
      "execution_count": null,
      "outputs": [
        {
          "output_type": "stream",
          "name": "stdout",
          "text": [
            "      Conservative  Labour\n",
            "0              0.0     1.0\n",
            "1              0.8     0.2\n",
            "2              0.6     0.4\n",
            "3              1.0     0.0\n",
            "4              1.0     0.0\n",
            "...            ...     ...\n",
            "1056           1.0     0.0\n",
            "1057           0.2     0.8\n",
            "1058           0.6     0.4\n",
            "1059           0.6     0.4\n",
            "1060           1.0     0.0\n",
            "\n",
            "[1061 rows x 2 columns]\n",
            "AUC 0.930:\n"
          ]
        },
        {
          "output_type": "display_data",
          "data": {
            "text/plain": [
              "<Figure size 432x288 with 1 Axes>"
            ],
            "image/png": "[encoded data removed]"
          },
          "metadata": {
            "needs_background": "light"
          }
        }
      ]
    },
    {
      "cell_type": "code",
      "source": [
        "# AUC and ROC for the testing data\n",
        "\n",
        "testprobs=best_grid2.predict_proba(X_test)\n",
        "testprobs=testprobs[:,1]\n",
        "auc=roc_auc_score(y_test,testprobs)\n",
        "print(\"AUC Score : %.3f\"%auc)\n",
        "fpr,tpr,thresholds=roc_curve(y_test,testprobs)\n",
        "plt.plot([0,1],[0,1],linestyle='--')\n",
        "plt.plot(fpr,tpr,marker='.')\n",
        "plt.show()"
      ],
      "metadata": {
        "colab": {
          "base_uri": "https://localhost:8080/",
          "height": 283
        },
        "outputId": "d3ad9635-3d42-407e-aef2-301f10cb41db",
        "id": "MRNlRuCvCCgm"
      },
      "execution_count": null,
      "outputs": [
        {
          "output_type": "stream",
          "name": "stdout",
          "text": [
            "AUC Score : 0.873\n"
          ]
        },
        {
          "output_type": "display_data",
          "data": {
            "text/plain": [
              "<Figure size 432x288 with 1 Axes>"
            ],
            "image/png": "[encoded data removed]"
          },
          "metadata": {
            "needs_background": "light"
          }
        }
      ]
    },
    {
      "cell_type": "markdown",
      "source": [
        "###Performance Metrics for Bagging Model"
      ],
      "metadata": {
        "id": "uosrgt2oCVPO"
      }
    },
    {
      "cell_type": "code",
      "source": [
        "y_train_predict = Bagging_Model.predict(X_train)\n",
        "y_test_predict = Bagging_Model.predict(X_test)"
      ],
      "metadata": {
        "id": "q1et_HrdCVPO"
      },
      "execution_count": null,
      "outputs": []
    },
    {
      "cell_type": "code",
      "source": [
        "##train data set\n",
        "print(metrics.confusion_matrix(y_train, y_train_predict))\n",
        "print(metrics.classification_report(y_train, y_train_predict))"
      ],
      "metadata": {
        "colab": {
          "base_uri": "https://localhost:8080/"
        },
        "outputId": "9969ab07-80b6-41fa-9a64-158eef477abb",
        "id": "UXehj8RnCVPP"
      },
      "execution_count": null,
      "outputs": [
        {
          "output_type": "stream",
          "name": "stdout",
          "text": [
            "[[748   6]\n",
            " [ 30 277]]\n",
            "              precision    recall  f1-score   support\n",
            "\n",
            "           0       0.96      0.99      0.98       754\n",
            "           1       0.98      0.90      0.94       307\n",
            "\n",
            "    accuracy                           0.97      1061\n",
            "   macro avg       0.97      0.95      0.96      1061\n",
            "weighted avg       0.97      0.97      0.97      1061\n",
            "\n"
          ]
        }
      ]
    },
    {
      "cell_type": "code",
      "source": [
        "##test data set\n",
        "print(metrics.confusion_matrix(y_test, y_test_predict))\n",
        "print(metrics.classification_report(y_test, y_test_predict))"
      ],
      "metadata": {
        "colab": {
          "base_uri": "https://localhost:8080/"
        },
        "outputId": "bd378582-5ff4-4b4a-b879-3f6585e6fe82",
        "id": "9MpITl90CVPP"
      },
      "execution_count": null,
      "outputs": [
        {
          "output_type": "stream",
          "name": "stdout",
          "text": [
            "[[274  29]\n",
            " [ 50 103]]\n",
            "              precision    recall  f1-score   support\n",
            "\n",
            "           0       0.85      0.90      0.87       303\n",
            "           1       0.78      0.67      0.72       153\n",
            "\n",
            "    accuracy                           0.83       456\n",
            "   macro avg       0.81      0.79      0.80       456\n",
            "weighted avg       0.82      0.83      0.82       456\n",
            "\n"
          ]
        }
      ]
    },
    {
      "cell_type": "code",
      "source": [
        "# AUC and ROC for the training data\n",
        "\n",
        "trainprobs=Bagging_Model.predict_proba(X_train)\n",
        "print(pd.DataFrame(trainprobs,columns=['Conservative','Labour']))\n",
        "trainprobs=trainprobs[:,1]\n",
        "auc=roc_auc_score(y_train,trainprobs)\n",
        "print('AUC %.3f:'%auc)\n",
        "fpr,tpr,thresholds=roc_curve(y_train,trainprobs)\n",
        "plt.plot([0,1],[0,1],linestyle='--')\n",
        "plt.plot(fpr,tpr,marker='.')\n",
        "plt.show()"
      ],
      "metadata": {
        "colab": {
          "base_uri": "https://localhost:8080/",
          "height": 539
        },
        "outputId": "94839fa9-33aa-48c9-cd77-a3768eb842cc",
        "id": "Q5ic0xWeCVPP"
      },
      "execution_count": null,
      "outputs": [
        {
          "output_type": "stream",
          "name": "stdout",
          "text": [
            "      Conservative  Labour\n",
            "0           0.0936  0.9064\n",
            "1           0.8620  0.1380\n",
            "2           0.4131  0.5869\n",
            "3           0.9573  0.0427\n",
            "4           0.9698  0.0302\n",
            "...            ...     ...\n",
            "1056        0.9962  0.0038\n",
            "1057        0.2285  0.7715\n",
            "1058        0.8689  0.1311\n",
            "1059        0.8574  0.1426\n",
            "1060        0.9389  0.0611\n",
            "\n",
            "[1061 rows x 2 columns]\n",
            "AUC 0.997:\n"
          ]
        },
        {
          "output_type": "display_data",
          "data": {
            "text/plain": [
              "<Figure size 432x288 with 1 Axes>"
            ],
            "image/png": "[encoded data removed]"
          },
          "metadata": {
            "needs_background": "light"
          }
        }
      ]
    },
    {
      "cell_type": "code",
      "source": [
        "# AUC and ROC for the testing data\n",
        "\n",
        "testprobs=Bagging_Model.predict_proba(X_test)\n",
        "testprobs=testprobs[:,1]\n",
        "auc=roc_auc_score(y_test,testprobs)\n",
        "print(\"AUC Score : %.3f\"%auc)\n",
        "fpr,tpr,thresholds=roc_curve(y_test,testprobs)\n",
        "plt.plot([0,1],[0,1],linestyle='--')\n",
        "plt.plot(fpr,tpr,marker='.')\n",
        "plt.show()"
      ],
      "metadata": {
        "colab": {
          "base_uri": "https://localhost:8080/",
          "height": 283
        },
        "outputId": "718aee7e-ea92-4b66-9199-71838dea8a9e",
        "id": "BZ-Ms1FsCVPP"
      },
      "execution_count": null,
      "outputs": [
        {
          "output_type": "stream",
          "name": "stdout",
          "text": [
            "AUC Score : 0.896\n"
          ]
        },
        {
          "output_type": "display_data",
          "data": {
            "text/plain": [
              "<Figure size 432x288 with 1 Axes>"
            ],
            "image/png": "[encoded data removed]"
          },
          "metadata": {
            "needs_background": "light"
          }
        }
      ]
    },
    {
      "cell_type": "markdown",
      "source": [
        "###Performance Metrics for Adaptive Boosting Model"
      ],
      "metadata": {
        "id": "VlKusIAXCsIe"
      }
    },
    {
      "cell_type": "code",
      "source": [
        "y_train_predict = ADB_Model.predict(X_train)\n",
        "y_test_predict = ADB_Model.predict(X_test)"
      ],
      "metadata": {
        "id": "BuKJ3UWqCsIf"
      },
      "execution_count": null,
      "outputs": []
    },
    {
      "cell_type": "code",
      "source": [
        "##train data set\n",
        "print(metrics.confusion_matrix(y_train, y_train_predict))\n",
        "print(metrics.classification_report(y_train, y_train_predict))"
      ],
      "metadata": {
        "colab": {
          "base_uri": "https://localhost:8080/"
        },
        "outputId": "5e165c14-80c2-429d-8898-8ffda81cfcec",
        "id": "eOqRY-DaCsIf"
      },
      "execution_count": null,
      "outputs": [
        {
          "output_type": "stream",
          "name": "stdout",
          "text": [
            "[[688  66]\n",
            " [ 93 214]]\n",
            "              precision    recall  f1-score   support\n",
            "\n",
            "           0       0.88      0.91      0.90       754\n",
            "           1       0.76      0.70      0.73       307\n",
            "\n",
            "    accuracy                           0.85      1061\n",
            "   macro avg       0.82      0.80      0.81      1061\n",
            "weighted avg       0.85      0.85      0.85      1061\n",
            "\n"
          ]
        }
      ]
    },
    {
      "cell_type": "code",
      "source": [
        "##test data set\n",
        "print(metrics.confusion_matrix(y_test, y_test_predict))\n",
        "print(metrics.classification_report(y_test, y_test_predict))"
      ],
      "metadata": {
        "colab": {
          "base_uri": "https://localhost:8080/"
        },
        "outputId": "2b252309-90d0-4883-892a-594ac6605377",
        "id": "7OpucYv2CsIf"
      },
      "execution_count": null,
      "outputs": [
        {
          "output_type": "stream",
          "name": "stdout",
          "text": [
            "[[268  35]\n",
            " [ 50 103]]\n",
            "              precision    recall  f1-score   support\n",
            "\n",
            "           0       0.84      0.88      0.86       303\n",
            "           1       0.75      0.67      0.71       153\n",
            "\n",
            "    accuracy                           0.81       456\n",
            "   macro avg       0.79      0.78      0.79       456\n",
            "weighted avg       0.81      0.81      0.81       456\n",
            "\n"
          ]
        }
      ]
    },
    {
      "cell_type": "code",
      "source": [
        "# AUC and ROC for the training data\n",
        "\n",
        "trainprobs=ADB_Model.predict_proba(X_train)\n",
        "print(pd.DataFrame(trainprobs,columns=['Conservative','Labour']))\n",
        "trainprobs=trainprobs[:,1]\n",
        "auc=roc_auc_score(y_train,trainprobs)\n",
        "print('AUC %.3f:'%auc)\n",
        "fpr,tpr,thresholds=roc_curve(y_train,trainprobs)\n",
        "plt.plot([0,1],[0,1],linestyle='--')\n",
        "plt.plot(fpr,tpr,marker='.')\n",
        "plt.show()"
      ],
      "metadata": {
        "colab": {
          "base_uri": "https://localhost:8080/",
          "height": 539
        },
        "outputId": "f9c7d58a-5593-4d76-b72d-cafc28a557bf",
        "id": "hAoeoqrTCsIf"
      },
      "execution_count": null,
      "outputs": [
        {
          "output_type": "stream",
          "name": "stdout",
          "text": [
            "      Conservative    Labour\n",
            "0         0.498848  0.501152\n",
            "1         0.506762  0.493238\n",
            "2         0.502894  0.497106\n",
            "3         0.507595  0.492405\n",
            "4         0.508910  0.491090\n",
            "...            ...       ...\n",
            "1056      0.509783  0.490217\n",
            "1057      0.500840  0.499160\n",
            "1058      0.511227  0.488773\n",
            "1059      0.506614  0.493386\n",
            "1060      0.510767  0.489233\n",
            "\n",
            "[1061 rows x 2 columns]\n",
            "AUC 0.915:\n"
          ]
        },
        {
          "output_type": "display_data",
          "data": {
            "text/plain": [
              "<Figure size 432x288 with 1 Axes>"
            ],
            "image/png": "[encoded data removed]"
          },
          "metadata": {
            "needs_background": "light"
          }
        }
      ]
    },
    {
      "cell_type": "code",
      "source": [
        "# AUC and ROC for the testing data\n",
        "\n",
        "testprobs=ADB_Model.predict_proba(X_test)\n",
        "testprobs=testprobs[:,1]\n",
        "auc=roc_auc_score(y_test,testprobs)\n",
        "print(\"AUC Score : %.3f\"%auc)\n",
        "fpr,tpr,thresholds=roc_curve(y_test,testprobs)\n",
        "plt.plot([0,1],[0,1],linestyle='--')\n",
        "plt.plot(fpr,tpr,marker='.')\n",
        "plt.show()"
      ],
      "metadata": {
        "colab": {
          "base_uri": "https://localhost:8080/",
          "height": 283
        },
        "outputId": "ceefccdb-d430-46a7-c1dd-2ba294e00ad9",
        "id": "aLmq-t7LCsIf"
      },
      "execution_count": null,
      "outputs": [
        {
          "output_type": "stream",
          "name": "stdout",
          "text": [
            "AUC Score : 0.877\n"
          ]
        },
        {
          "output_type": "display_data",
          "data": {
            "text/plain": [
              "<Figure size 432x288 with 1 Axes>"
            ],
            "image/png": "[encoded data removed]"
          },
          "metadata": {
            "needs_background": "light"
          }
        }
      ]
    },
    {
      "cell_type": "markdown",
      "source": [
        "###Performance Metrics for Gradient Boosting Model"
      ],
      "metadata": {
        "id": "IRea83PnDFbh"
      }
    },
    {
      "cell_type": "code",
      "source": [
        "y_train_predict = GB_Model.predict(X_train)\n",
        "y_test_predict = GB_Model.predict(X_test)"
      ],
      "metadata": {
        "id": "Tlgy1N6bDFbh"
      },
      "execution_count": null,
      "outputs": []
    },
    {
      "cell_type": "code",
      "source": [
        "##train data set\n",
        "print(metrics.confusion_matrix(y_train, y_train_predict))\n",
        "print(metrics.classification_report(y_train, y_train_predict))"
      ],
      "metadata": {
        "colab": {
          "base_uri": "https://localhost:8080/"
        },
        "outputId": "1d268ff6-7b3f-40cf-f1db-880d1b4084ef",
        "id": "xGAEh5u8DFbi"
      },
      "execution_count": null,
      "outputs": [
        {
          "output_type": "stream",
          "name": "stdout",
          "text": [
            "[[708  46]\n",
            " [ 68 239]]\n",
            "              precision    recall  f1-score   support\n",
            "\n",
            "           0       0.91      0.94      0.93       754\n",
            "           1       0.84      0.78      0.81       307\n",
            "\n",
            "    accuracy                           0.89      1061\n",
            "   macro avg       0.88      0.86      0.87      1061\n",
            "weighted avg       0.89      0.89      0.89      1061\n",
            "\n"
          ]
        }
      ]
    },
    {
      "cell_type": "code",
      "source": [
        "##test data set\n",
        "print(metrics.confusion_matrix(y_test, y_test_predict))\n",
        "print(metrics.classification_report(y_test, y_test_predict))"
      ],
      "metadata": {
        "colab": {
          "base_uri": "https://localhost:8080/"
        },
        "outputId": "2c589071-5b1c-4254-b708-7ba5a2458259",
        "id": "TqVjL5FODFbi"
      },
      "execution_count": null,
      "outputs": [
        {
          "output_type": "stream",
          "name": "stdout",
          "text": [
            "[[276  27]\n",
            " [ 49 104]]\n",
            "              precision    recall  f1-score   support\n",
            "\n",
            "           0       0.85      0.91      0.88       303\n",
            "           1       0.79      0.68      0.73       153\n",
            "\n",
            "    accuracy                           0.83       456\n",
            "   macro avg       0.82      0.80      0.81       456\n",
            "weighted avg       0.83      0.83      0.83       456\n",
            "\n"
          ]
        }
      ]
    },
    {
      "cell_type": "code",
      "source": [
        "# AUC and ROC for the training data\n",
        "\n",
        "trainprobs=GB_Model.predict_proba(X_train)\n",
        "print(pd.DataFrame(trainprobs,columns=['Conservative','Labour']))\n",
        "trainprobs=trainprobs[:,1]\n",
        "auc=roc_auc_score(y_train,trainprobs)\n",
        "print('AUC %.3f:'%auc)\n",
        "fpr,tpr,thresholds=roc_curve(y_train,trainprobs)\n",
        "plt.plot([0,1],[0,1],linestyle='--')\n",
        "plt.plot(fpr,tpr,marker='.')\n",
        "plt.show()"
      ],
      "metadata": {
        "colab": {
          "base_uri": "https://localhost:8080/",
          "height": 539
        },
        "outputId": "a185671a-ca95-4c57-f985-626985e96e46",
        "id": "BLsW860nDFbi"
      },
      "execution_count": null,
      "outputs": [
        {
          "output_type": "stream",
          "name": "stdout",
          "text": [
            "      Conservative    Labour\n",
            "0         0.166330  0.833670\n",
            "1         0.928095  0.071905\n",
            "2         0.664426  0.335574\n",
            "3         0.950106  0.049894\n",
            "4         0.968959  0.031041\n",
            "...            ...       ...\n",
            "1056      0.976890  0.023110\n",
            "1057      0.408415  0.591585\n",
            "1058      0.973513  0.026487\n",
            "1059      0.886616  0.113384\n",
            "1060      0.992756  0.007244\n",
            "\n",
            "[1061 rows x 2 columns]\n",
            "AUC 0.951:\n"
          ]
        },
        {
          "output_type": "display_data",
          "data": {
            "text/plain": [
              "<Figure size 432x288 with 1 Axes>"
            ],
            "image/png": "[encoded data removed]"
          },
          "metadata": {
            "needs_background": "light"
          }
        }
      ]
    },
    {
      "cell_type": "code",
      "source": [
        "# AUC and ROC for the testing data\n",
        "\n",
        "testprobs=GB_Model.predict_proba(X_test)\n",
        "testprobs=testprobs[:,1]\n",
        "auc=roc_auc_score(y_test,testprobs)\n",
        "print(\"AUC Score : %.3f\"%auc)\n",
        "fpr,tpr,thresholds=roc_curve(y_test,testprobs)\n",
        "plt.plot([0,1],[0,1],linestyle='--')\n",
        "plt.plot(fpr,tpr,marker='.')\n",
        "plt.show()"
      ],
      "metadata": {
        "colab": {
          "base_uri": "https://localhost:8080/",
          "height": 283
        },
        "outputId": "8a6ebf07-a58a-4b56-8adc-43de9b2a6042",
        "id": "Jgb4SP61DFbi"
      },
      "execution_count": null,
      "outputs": [
        {
          "output_type": "stream",
          "name": "stdout",
          "text": [
            "AUC Score : 0.898\n"
          ]
        },
        {
          "output_type": "display_data",
          "data": {
            "text/plain": [
              "<Figure size 432x288 with 1 Axes>"
            ],
            "image/png": "[encoded data removed]"
          },
          "metadata": {
            "needs_background": "light"
          }
        }
      ]
    },
    {
      "cell_type": "markdown",
      "source": [
        "###Comparing the models\n",
        "\n",
        "###Here in 'vote' variable I have considered Conservative = 1 and Labour = 0. For the comparison I am taking the metric values for 1 just to identify the best model."
      ],
      "metadata": {
        "id": "f7ZIQTh3MVKi"
      }
    },
    {
      "cell_type": "code",
      "source": [
        "index=['Accuracy', 'AUC', 'Recall','Precision','F1 Score']\n",
        "data = pd.DataFrame({'LR Train':[0.83,0.890,0.63,0.76,0.69],     \n",
        "        'LR Test':[0.83,0.884,0.71,0.76,0.73],\n",
        "        'LDA Train':[0.83,0.889,0.65,0.74,0.69],\n",
        "        'LDA Test':[0.83,0.888,0.73,0.77,0.74],\n",
        "        'KNN Train':[0.86,0.930,0.72,0.77,0.74],\n",
        "        'KNN Test':[0.82,0.873,0.70,0.74,0.72],\n",
        "        'NB Train':[0.84,0.888,0.69,0.73,0.71],\n",
        "        'NB Test':[0.82,0.876,0.73,0.74,0.73],\n",
        "        'Tuned LR Train':[0.84,0.889,0.63,0.74,0.69],\n",
        "        'Tuned LR Test':[0.83,0.888,0.72,0.75,0.74],\n",
        "        'Tuned LDA Train':[0.83,0.930,0.65,0.74,0.69],\n",
        "        'Tuned LDA Test':[0.83,0.915,0.73,0.77,0.74],\n",
        "        'Tuned KNN Train':[0.86,0.930,0.72,0.77,0.74],\n",
        "        'Tuned KNN Test':[0.82,0.873,0.70,0.74,0.72],\n",
        "        'Bagging Train':[0.97,0.997,0.90,0.98,0.94],\n",
        "        'Bagging Test':[0.83,0.896,0.67,0.78,0.72],\n",
        "        'ADA Train':[0.85,0.915,0.70,0.76,0.73],\n",
        "        'ADA Test':[0.81,0.877,0.67,0.75,0.71],\n",
        "        'GB Train':[0.89,0.951,0.78,0.84,0.81],\n",
        "        'GB Test':[0.83,0.898,0.68,0.79,0.73]},index=index) "
      ],
      "metadata": {
        "id": "VSH2fLT0M1Dz"
      },
      "execution_count": null,
      "outputs": []
    },
    {
      "cell_type": "code",
      "source": [
        "data.T"
      ],
      "metadata": {
        "colab": {
          "base_uri": "https://localhost:8080/",
          "height": 676
        },
        "id": "_5delEe-M-_m",
        "outputId": "26195e1b-7f5e-4f93-8e7f-dd89af5e6ab8"
      },
      "execution_count": null,
      "outputs": [
        {
          "output_type": "execute_result",
          "data": {
            "text/plain": [
              "                 Accuracy    AUC  Recall  Precision  F1 Score\n",
              "LR Train             0.83  0.890    0.63       0.76      0.69\n",
              "LR Test              0.83  0.884    0.71       0.76      0.73\n",
              "LDA Train            0.83  0.889    0.65       0.74      0.69\n",
              "LDA Test             0.83  0.888    0.73       0.77      0.74\n",
              "KNN Train            0.86  0.930    0.72       0.77      0.74\n",
              "KNN Test             0.82  0.873    0.70       0.74      0.72\n",
              "NB Train             0.84  0.888    0.69       0.73      0.71\n",
              "NB Test              0.82  0.876    0.73       0.74      0.73\n",
              "Tuned LR Train       0.84  0.889    0.63       0.74      0.69\n",
              "Tuned LR Test        0.83  0.888    0.72       0.75      0.74\n",
              "Tuned LDA Train      0.83  0.930    0.65       0.74      0.69\n",
              "Tuned LDA Test       0.83  0.915    0.73       0.77      0.74\n",
              "Tuned KNN Train      0.86  0.930    0.72       0.77      0.74\n",
              "Tuned KNN Test       0.82  0.873    0.70       0.74      0.72\n",
              "Bagging Train        0.97  0.997    0.90       0.98      0.94\n",
              "Bagging Test         0.83  0.896    0.67       0.78      0.72\n",
              "ADA Train            0.85  0.915    0.70       0.76      0.73\n",
              "ADA Test             0.81  0.877    0.67       0.75      0.71\n",
              "GB Train             0.89  0.951    0.78       0.84      0.81\n",
              "GB Test              0.83  0.898    0.68       0.79      0.73"
            ],
            "text/html": [
              "\n",
              "  <div id=\"df-959d20b3-cd3b-444e-af50-a149acc8f2d0\">\n",
              "    <div class=\"colab-df-container\">\n",
              "      <div>\n",
              "<style scoped>\n",
              "    .dataframe tbody tr th:only-of-type {\n",
              "        vertical-align: middle;\n",
              "    }\n",
              "\n",
              "    .dataframe tbody tr th {\n",
              "        vertical-align: top;\n",
              "    }\n",
              "\n",
              "    .dataframe thead th {\n",
              "        text-align: right;\n",
              "    }\n",
              "</style>\n",
              "<table border=\"1\" class=\"dataframe\">\n",
              "  <thead>\n",
              "    <tr style=\"text-align: right;\">\n",
              "      <th></th>\n",
              "      <th>Accuracy</th>\n",
              "      <th>AUC</th>\n",
              "      <th>Recall</th>\n",
              "      <th>Precision</th>\n",
              "      <th>F1 Score</th>\n",
              "    </tr>\n",
              "  </thead>\n",
              "  <tbody>\n",
              "    <tr>\n",
              "      <th>LR Train</th>\n",
              "      <td>0.83</td>\n",
              "      <td>0.890</td>\n",
              "      <td>0.63</td>\n",
              "      <td>0.76</td>\n",
              "      <td>0.69</td>\n",
              "    </tr>\n",
              "    <tr>\n",
              "      <th>LR Test</th>\n",
              "      <td>0.83</td>\n",
              "      <td>0.884</td>\n",
              "      <td>0.71</td>\n",
              "      <td>0.76</td>\n",
              "      <td>0.73</td>\n",
              "    </tr>\n",
              "    <tr>\n",
              "      <th>LDA Train</th>\n",
              "      <td>0.83</td>\n",
              "      <td>0.889</td>\n",
              "      <td>0.65</td>\n",
              "      <td>0.74</td>\n",
              "      <td>0.69</td>\n",
              "    </tr>\n",
              "    <tr>\n",
              "      <th>LDA Test</th>\n",
              "      <td>0.83</td>\n",
              "      <td>0.888</td>\n",
              "      <td>0.73</td>\n",
              "      <td>0.77</td>\n",
              "      <td>0.74</td>\n",
              "    </tr>\n",
              "    <tr>\n",
              "      <th>KNN Train</th>\n",
              "      <td>0.86</td>\n",
              "      <td>0.930</td>\n",
              "      <td>0.72</td>\n",
              "      <td>0.77</td>\n",
              "      <td>0.74</td>\n",
              "    </tr>\n",
              "    <tr>\n",
              "      <th>KNN Test</th>\n",
              "      <td>0.82</td>\n",
              "      <td>0.873</td>\n",
              "      <td>0.70</td>\n",
              "      <td>0.74</td>\n",
              "      <td>0.72</td>\n",
              "    </tr>\n",
              "    <tr>\n",
              "      <th>NB Train</th>\n",
              "      <td>0.84</td>\n",
              "      <td>0.888</td>\n",
              "      <td>0.69</td>\n",
              "      <td>0.73</td>\n",
              "      <td>0.71</td>\n",
              "    </tr>\n",
              "    <tr>\n",
              "      <th>NB Test</th>\n",
              "      <td>0.82</td>\n",
              "      <td>0.876</td>\n",
              "      <td>0.73</td>\n",
              "      <td>0.74</td>\n",
              "      <td>0.73</td>\n",
              "    </tr>\n",
              "    <tr>\n",
              "      <th>Tuned LR Train</th>\n",
              "      <td>0.84</td>\n",
              "      <td>0.889</td>\n",
              "      <td>0.63</td>\n",
              "      <td>0.74</td>\n",
              "      <td>0.69</td>\n",
              "    </tr>\n",
              "    <tr>\n",
              "      <th>Tuned LR Test</th>\n",
              "      <td>0.83</td>\n",
              "      <td>0.888</td>\n",
              "      <td>0.72</td>\n",
              "      <td>0.75</td>\n",
              "      <td>0.74</td>\n",
              "    </tr>\n",
              "    <tr>\n",
              "      <th>Tuned LDA Train</th>\n",
              "      <td>0.83</td>\n",
              "      <td>0.930</td>\n",
              "      <td>0.65</td>\n",
              "      <td>0.74</td>\n",
              "      <td>0.69</td>\n",
              "    </tr>\n",
              "    <tr>\n",
              "      <th>Tuned LDA Test</th>\n",
              "      <td>0.83</td>\n",
              "      <td>0.915</td>\n",
              "      <td>0.73</td>\n",
              "      <td>0.77</td>\n",
              "      <td>0.74</td>\n",
              "    </tr>\n",
              "    <tr>\n",
              "      <th>Tuned KNN Train</th>\n",
              "      <td>0.86</td>\n",
              "      <td>0.930</td>\n",
              "      <td>0.72</td>\n",
              "      <td>0.77</td>\n",
              "      <td>0.74</td>\n",
              "    </tr>\n",
              "    <tr>\n",
              "      <th>Tuned KNN Test</th>\n",
              "      <td>0.82</td>\n",
              "      <td>0.873</td>\n",
              "      <td>0.70</td>\n",
              "      <td>0.74</td>\n",
              "      <td>0.72</td>\n",
              "    </tr>\n",
              "    <tr>\n",
              "      <th>Bagging Train</th>\n",
              "      <td>0.97</td>\n",
              "      <td>0.997</td>\n",
              "      <td>0.90</td>\n",
              "      <td>0.98</td>\n",
              "      <td>0.94</td>\n",
              "    </tr>\n",
              "    <tr>\n",
              "      <th>Bagging Test</th>\n",
              "      <td>0.83</td>\n",
              "      <td>0.896</td>\n",
              "      <td>0.67</td>\n",
              "      <td>0.78</td>\n",
              "      <td>0.72</td>\n",
              "    </tr>\n",
              "    <tr>\n",
              "      <th>ADA Train</th>\n",
              "      <td>0.85</td>\n",
              "      <td>0.915</td>\n",
              "      <td>0.70</td>\n",
              "      <td>0.76</td>\n",
              "      <td>0.73</td>\n",
              "    </tr>\n",
              "    <tr>\n",
              "      <th>ADA Test</th>\n",
              "      <td>0.81</td>\n",
              "      <td>0.877</td>\n",
              "      <td>0.67</td>\n",
              "      <td>0.75</td>\n",
              "      <td>0.71</td>\n",
              "    </tr>\n",
              "    <tr>\n",
              "      <th>GB Train</th>\n",
              "      <td>0.89</td>\n",
              "      <td>0.951</td>\n",
              "      <td>0.78</td>\n",
              "      <td>0.84</td>\n",
              "      <td>0.81</td>\n",
              "    </tr>\n",
              "    <tr>\n",
              "      <th>GB Test</th>\n",
              "      <td>0.83</td>\n",
              "      <td>0.898</td>\n",
              "      <td>0.68</td>\n",
              "      <td>0.79</td>\n",
              "      <td>0.73</td>\n",
              "    </tr>\n",
              "  </tbody>\n",
              "</table>\n",
              "</div>\n",
              "      <button class=\"colab-df-convert\" onclick=\"convertToInteractive('df-959d20b3-cd3b-444e-af50-a149acc8f2d0')\"\n",
              "              title=\"Convert this dataframe to an interactive table.\"\n",
              "              style=\"display:none;\">\n",
              "        \n",
              "  <svg xmlns=\"http://www.w3.org/2000/svg\" height=\"24px\"viewBox=\"0 0 24 24\"\n",
              "       width=\"24px\">\n",
              "    <path d=\"M0 0h24v24H0V0z\" fill=\"none\"/>\n",
              "    <path d=\"M18.56 5.44l.94 2.06.94-2.06 2.06-.94-2.06-.94-.94-2.06-.94 2.06-2.06.94zm-11 1L8.5 8.5l.94-2.06 2.06-.94-2.06-.94L8.5 2.5l-.94 2.06-2.06.94zm10 10l.94 2.06.94-2.06 2.06-.94-2.06-.94-.94-2.06-.94 2.06-2.06.94z\"/><path d=\"M17.41 7.96l-1.37-1.37c-.4-.4-.92-.59-1.43-.59-.52 0-1.04.2-1.43.59L10.3 9.45l-7.72 7.72c-.78.78-.78 2.05 0 2.83L4 21.41c.39.39.9.59 1.41.59.51 0 1.02-.2 1.41-.59l7.78-7.78 2.81-2.81c.8-.78.8-2.07 0-2.86zM5.41 20L4 18.59l7.72-7.72 1.47 1.35L5.41 20z\"/>\n",
              "  </svg>\n",
              "      </button>\n",
              "      \n",
              "  <style>\n",
              "    .colab-df-container {\n",
              "      display:flex;\n",
              "      flex-wrap:wrap;\n",
              "      gap: 12px;\n",
              "    }\n",
              "\n",
              "    .colab-df-convert {\n",
              "      background-color: #E8F0FE;\n",
              "      border: none;\n",
              "      border-radius: 50%;\n",
              "      cursor: pointer;\n",
              "      display: none;\n",
              "      fill: #1967D2;\n",
              "      height: 32px;\n",
              "      padding: 0 0 0 0;\n",
              "      width: 32px;\n",
              "    }\n",
              "\n",
              "    .colab-df-convert:hover {\n",
              "      background-color: #E2EBFA;\n",
              "      box-shadow: 0px 1px 2px rgba(60, 64, 67, 0.3), 0px 1px 3px 1px rgba(60, 64, 67, 0.15);\n",
              "      fill: #174EA6;\n",
              "    }\n",
              "\n",
              "    [theme=dark] .colab-df-convert {\n",
              "      background-color: #3B4455;\n",
              "      fill: #D2E3FC;\n",
              "    }\n",
              "\n",
              "    [theme=dark] .colab-df-convert:hover {\n",
              "      background-color: #434B5C;\n",
              "      box-shadow: 0px 1px 3px 1px rgba(0, 0, 0, 0.15);\n",
              "      filter: drop-shadow(0px 1px 2px rgba(0, 0, 0, 0.3));\n",
              "      fill: #FFFFFF;\n",
              "    }\n",
              "  </style>\n",
              "\n",
              "      <script>\n",
              "        const buttonEl =\n",
              "          document.querySelector('#df-959d20b3-cd3b-444e-af50-a149acc8f2d0 button.colab-df-convert');\n",
              "        buttonEl.style.display =\n",
              "          google.colab.kernel.accessAllowed ? 'block' : 'none';\n",
              "\n",
              "        async function convertToInteractive(key) {\n",
              "          const element = document.querySelector('#df-959d20b3-cd3b-444e-af50-a149acc8f2d0');\n",
              "          const dataTable =\n",
              "            await google.colab.kernel.invokeFunction('convertToInteractive',\n",
              "                                                     [key], {});\n",
              "          if (!dataTable) return;\n",
              "\n",
              "          const docLinkHtml = 'Like what you see? Visit the ' +\n",
              "            '<a target=\"_blank\" href=https://colab.research.google.com/notebooks/data_table.ipynb>data table notebook</a>'\n",
              "            + ' to learn more about interactive tables.';\n",
              "          element.innerHTML = '';\n",
              "          dataTable['output_type'] = 'display_data';\n",
              "          await google.colab.output.renderOutput(dataTable, element);\n",
              "          const docLink = document.createElement('div');\n",
              "          docLink.innerHTML = docLinkHtml;\n",
              "          element.appendChild(docLink);\n",
              "        }\n",
              "      </script>\n",
              "    </div>\n",
              "  </div>\n",
              "  "
            ]
          },
          "metadata": {},
          "execution_count": 125
        }
      ]
    },
    {
      "cell_type": "markdown",
      "source": [
        "###From the above table I can see more or less all the models have performed well, the result of predictions are almost similar for all except the train set of the model made for Bagging algorithm. The Bagging_Model train set has performed exceptionally well where - \n",
        "* 97% of total prediction are correct.\n",
        "* If I pick recall then 90% of prediction of voters will not vote for Conservative party is correct. \n",
        "* If I pick precision then 98% of prediction of voters will not vote for Conservative party is correct. \n",
        "\n",
        "###Though the Bagging_Model test set has not performed as good as train set but the result is similar to other models' resul. Here-\n",
        "* 83% of total prediction are correct.\n",
        "* If I pick recall then 67% of prediction of voters will not vote for Conservative party is correct. \n",
        "* If I pick precision then 78% of prediction of voters will not vote for Conservative party is correct. \n",
        "\n",
        "###The next best model if I consider then I will pick the model made for Gradient Boosting algorithm. Here the train set has performed really well where -\n",
        "* 89% of total prediction are correct.\n",
        "* If I pick recall then 78% of prediction of voters will not vote for Conservative party is correct. \n",
        "* If I pick precision then 84% of prediction of voters will not vote for Conservative party is correct. \n",
        "\n",
        "###For the test set -\n",
        "* 83% of total prediction are correct.\n",
        "* If I pick recall then 68% of prediction of voters will not vote for Conservative party is correct. \n",
        "* If I pick precision then 79% of prediction of voters will not vote for  Conservative party is correct.\n",
        "\n",
        "###In this comparison I am mainly focusing on the Accuarcy first because for the other metrics the results are almost similar.\n",
        "\n",
        "###Based on the results I will choose Bagging_Model as the best possible model.\n",
        "\n",
        "\n",
        "\n"
      ],
      "metadata": {
        "id": "ki0_yrwSObfQ"
      }
    },
    {
      "cell_type": "markdown",
      "source": [
        "##Ans 1.8"
      ],
      "metadata": {
        "id": "TonFhVhBTfeb"
      }
    },
    {
      "cell_type": "markdown",
      "source": [
        "###Insights\n",
        "\n",
        "* Comparing all the performance metrics, KNN model is performing best. Although there are some other models which are performing almost same as that of KNN. But KNN model is very consistent when train and test results are compared with each other. Along with other parameters such as Recall value, AUC_SCORE and AUC_ROC_Curve, those results were pretty good is this model.\n",
        "\n",
        "* Labour party is performing better than Conservative from huge margin.\n",
        "\n",
        "* Female voters turn out is greater than the male voters.\n",
        "\n",
        "* Those who have better national economic conditions are preferring to vote for Labour party. \n",
        "\n",
        "* Persons having higher Eurosceptic sentiments conservative party are preferring to vote for Conservative party. \n",
        "* Those who have higher political knowledge have voted for Conservative party.\n",
        "\n",
        "* Looking at the assessment for both the leaders, Labour Leader is performing well as it has got better ratings in assessment."
      ],
      "metadata": {
        "id": "blUgqvEQOX60"
      }
    }
  ]
}